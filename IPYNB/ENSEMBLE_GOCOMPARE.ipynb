{
 "cells": [
  {
   "cell_type": "markdown",
   "id": "32bf9470",
   "metadata": {},
   "source": [
    "# LOADING LIBRARIES"
   ]
  },
  {
   "cell_type": "code",
   "execution_count": 1,
   "id": "7a808951",
   "metadata": {},
   "outputs": [
    {
     "name": "stderr",
     "output_type": "stream",
     "text": [
      "<frozen importlib._bootstrap>:219: RuntimeWarning: scipy._lib.messagestream.MessageStream size changed, may indicate binary incompatibility. Expected 56 from C header, got 64 from PyObject\n"
     ]
    }
   ],
   "source": [
    "#!/usr/bin/env python\n",
    "# coding: utf-8\n",
    "\n",
    "# In[2]:\n",
    "\n",
    "#import matplotlib.pyplot as plt\n",
    "#import numpy as np\n",
    "import pandas as pd\n",
    "#import networkx as nx\n",
    "#import csv\n",
    "#from sys import stdin\n",
    "#from networkx.algorithms.community import greedy_modularity_communities\n",
    "#from networkx.algorithms.community import k_clique_communities\n",
    "#from networkx.algorithms.community import asyn_lpa_communities\n",
    "#from networkx.algorithms.community import modularity\n",
    "#from cdlib import algorithms, readwrite, viz\n",
    "#from sklearn.manifold import TSNE\n",
    "#from sklearn.model_selection import train_test_split\n",
    "#from sklearn.linear_model import LogisticRegressionCV\n",
    "#from sklearn.metrics import accuracy_score\n",
    "#from gensim.models import Word2Vec\n",
    "from sklearn import preprocessing\n",
    "import sklearn.metrics as sk_metrics\n",
    "#import seaborn as sns\n",
    "\n",
    "#################\n",
    "def fixed_metrics(y,y_pred):\n",
    "    from sklearn import metrics\n",
    "    import pandas as pd\n",
    "    import sklearn.metrics as sk_metrics\n",
    "    \n",
    "\n",
    "    cm = sk_metrics.confusion_matrix(y, y_pred)\n",
    "\n",
    "    results_partial = y.copy()\n",
    "    results_partial=pd.DataFrame(results_partial)\n",
    "    results_partial[\"pred\"] = y_pred\n",
    "    results_partial = results_partial[(results_partial.iloc[:,0]<1)]\n",
    "    \n",
    "    alfa = sum(results_partial[\"pred\"])/results_partial.shape[0]\n",
    "    beta = 1\n",
    "    \n",
    "    fpr, tpr, thresholds = metrics.roc_curve(y, y_pred, pos_label=1)\n",
    "\n",
    "    \n",
    "    TN = cm[0,0]\n",
    "    FN = cm[1,0]\n",
    "    TP = cm[1,1]\n",
    "    FP = cm[0,1]\n",
    "    \n",
    "    theta = (TP+FP)/(TP+FN+TN+FP)\n",
    "    n=FP/(TN+FP)\n",
    "    #pi = (TP+FN)/(TP+FN+TN+FP)\n",
    "    c= len(y[(y.iloc[:,0]==1)])/(len(y[(y.iloc[:,0]==1)])+len(y[(y.iloc[:,0]==0)]))\n",
    "    gamma = TP/(TP+FN)\n",
    "    if beta-alfa==0:\n",
    "        gamma_cr = float('inf')\n",
    "        n_cr = float('inf')\n",
    "    else:\n",
    "        gamma_cr = ((beta-alfa)**-1)*((1-alfa)*gamma-(1-beta)*n)\n",
    "        n_cr = ((beta-alfa)**-1)*((beta*n)-(alfa*gamma))\n",
    "        \n",
    "    pi_cr = (c*beta)+((1-c)*alfa)\n",
    "    ##metrics\n",
    "    ACC_cr = (pi_cr*gamma_cr) + ((1-pi_cr)*(1-n_cr))\n",
    "    bacc_cr = (1 + (gamma_cr - n_cr))/2\n",
    "    f_cr = (2*pi_cr*gamma_cr)/(pi_cr+theta)\n",
    "    mcc_cr = (pi_cr*(1-pi_cr)/theta*(1-theta))*(gamma_cr-n_cr)\n",
    "    \n",
    "    auc_r = metrics.auc(fpr, tpr)\n",
    "    auc_cr = (auc_r-(1-(beta-alfa)))/(beta-alfa)\n",
    "    alfa = sum(results_partial[\"pred\"])/results_partial.shape[0]\n",
    "    \n",
    "    metrics_df =[[auc_r,auc_cr,ACC_cr,bacc_cr,f_cr,mcc_cr,alfa]]\n",
    "    return(metrics_df)\n"
   ]
  },
  {
   "cell_type": "code",
   "execution_count": 2,
   "id": "68147ee4",
   "metadata": {},
   "outputs": [],
   "source": [
    "# roc curve for logistic regression model with optimal threshold\n",
    "from numpy import sqrt\n",
    "from numpy import argmax\n",
    "from sklearn.datasets import make_classification\n",
    "from sklearn.metrics import precision_recall_curve\n",
    "from sklearn.model_selection import train_test_split\n",
    "from sklearn.metrics import roc_curve\n",
    "from matplotlib import pyplot"
   ]
  },
  {
   "cell_type": "markdown",
   "id": "b6988c03",
   "metadata": {},
   "source": [
    "# threshold prom unweighted\n"
   ]
  },
  {
   "cell_type": "code",
   "execution_count": 3,
   "id": "acf0db0b",
   "metadata": {},
   "outputs": [
    {
     "name": "stdout",
     "output_type": "stream",
     "text": [
      "                status   prob_rf   prob_LP  prob_ADA_logit  PROM_PROB  \\\n",
      "genes                                                                   \n",
      "LOC_Os03g50290       0  0.586321  0.831400    7.865341e-01   0.734752   \n",
      "LOC_Os04g38870       1  0.849569  1.000000    9.992189e-01   0.949596   \n",
      "LOC_Os08g33370       0  0.631327  0.909800    9.990975e-01   0.846741   \n",
      "LOC_Os08g37490       0  0.609197  0.878497    9.780179e-01   0.821904   \n",
      "LOC_Os02g36974       0  0.656264  0.955600    9.723271e-01   0.861397   \n",
      "...                ...       ...       ...             ...        ...   \n",
      "LOC_Os05g37130       0  0.388100  0.649908    1.000000e+00   0.679336   \n",
      "LOC_Os04g45020       0  0.352696  0.328196    1.870000e-14   0.226964   \n",
      "LOC_Os02g11870       0  0.376730  0.362166    4.720000e-09   0.246299   \n",
      "LOC_Os01g43050       0  0.405906  0.254179    1.007740e-04   0.220062   \n",
      "LOC_Os05g41160       0  0.426231  0.505414    1.490000e-08   0.310548   \n",
      "\n",
      "                pred_rf  pred_LP  pred_ADA_logit  ENSEMBLE_THRESHOLD  \\\n",
      "genes                                                                  \n",
      "LOC_Os03g50290        0        0               1                   0   \n",
      "LOC_Os04g38870        1        1               1                   1   \n",
      "LOC_Os08g33370        0        0               1                   0   \n",
      "LOC_Os08g37490        0        0               1                   0   \n",
      "LOC_Os02g36974        0        0               1                   0   \n",
      "...                 ...      ...             ...                 ...   \n",
      "LOC_Os05g37130        0        0               1                   0   \n",
      "LOC_Os04g45020        0        0               0                   0   \n",
      "LOC_Os02g11870        0        0               0                   0   \n",
      "LOC_Os01g43050        0        0               0                   0   \n",
      "LOC_Os05g41160        0        0               0                   0   \n",
      "\n",
      "                ENSEMBL_PROM  \n",
      "genes                         \n",
      "LOC_Os03g50290             1  \n",
      "LOC_Os04g38870             1  \n",
      "LOC_Os08g33370             1  \n",
      "LOC_Os08g37490             1  \n",
      "LOC_Os02g36974             1  \n",
      "...                      ...  \n",
      "LOC_Os05g37130             1  \n",
      "LOC_Os04g45020             0  \n",
      "LOC_Os02g11870             0  \n",
      "LOC_Os01g43050             0  \n",
      "LOC_Os05g41160             0  \n",
      "\n",
      "[17228 rows x 10 columns]\n"
     ]
    }
   ],
   "source": [
    "filename = \"D:/REPO_GITHUB/ALUMINUM_GENES_CLASSIFICATION/ENSEMBLE/CANDIDATES_GOCompare_ENSEMBLE_UNWEIGHTED.xlsx\"\n",
    "#filename = \"/users/ccsosaa/pecanpy/BIG_COMP_W.emb\"\n",
    "data=pd.read_excel(filename,index_col=0)\n",
    "print(data)"
   ]
  },
  {
   "cell_type": "code",
   "execution_count": 4,
   "id": "c18da6c3",
   "metadata": {},
   "outputs": [],
   "source": [
    "# roc curve for logistic regression model with optimal threshold\n",
    "from numpy import sqrt\n",
    "from numpy import argmax\n",
    "from sklearn.datasets import make_classification\n",
    "from sklearn.linear_model import LogisticRegression\n",
    "from sklearn.model_selection import train_test_split\n",
    "from sklearn.metrics import roc_curve\n",
    "from matplotlib import pyplot\n",
    "fpr, tpr, thresholds = roc_curve(data[\"status\"], data[\"PROM_PROB\"])"
   ]
  },
  {
   "cell_type": "code",
   "execution_count": 5,
   "id": "ec4d5037",
   "metadata": {},
   "outputs": [
    {
     "name": "stdout",
     "output_type": "stream",
     "text": [
      "Best Threshold=0.583202, G-Mean=0.971\n"
     ]
    },
    {
     "data": {
      "image/png": "[encoded data removed]",
      "text/plain": [
       "<Figure size 640x480 with 1 Axes>"
      ]
     },
     "metadata": {},
     "output_type": "display_data"
    }
   ],
   "source": [
    "# calculate the g-mean for each threshold\n",
    "gmeans = sqrt(tpr * (1-fpr))\n",
    "# locate the index of the largest g-mean\n",
    "ix = argmax(gmeans)\n",
    "print('Best Threshold=%f, G-Mean=%.3f' % (thresholds[ix], gmeans[ix]))\n",
    "# plot the roc curve for the model\n",
    "pyplot.plot([0,1], [0,1], linestyle='--', label='No Skill')\n",
    "pyplot.plot(fpr, tpr, marker='.', label='Average probability')\n",
    "pyplot.scatter(fpr[ix], tpr[ix], marker='o', color='black', label='Best')\n",
    "# axis labels\n",
    "pyplot.xlabel('False Positive Rate')\n",
    "pyplot.ylabel('True Positive Rate')\n",
    "pyplot.legend()\n",
    "# show the plot\n",
    "pyplot.show()"
   ]
  },
  {
   "cell_type": "code",
   "execution_count": 6,
   "id": "ab769b83",
   "metadata": {},
   "outputs": [
    {
     "name": "stderr",
     "output_type": "stream",
     "text": [
      "C:\\Users\\cami_\\AppData\\Local\\Temp\\ipykernel_6444\\1583429896.py:3: SettingWithCopyWarning: \n",
      "A value is trying to be set on a copy of a slice from a DataFrame\n",
      "\n",
      "See the caveats in the documentation: https://pandas.pydata.org/pandas-docs/stable/user_guide/indexing.html#returning-a-view-versus-a-copy\n",
      "  data[\"ENSEMBL_PROM\"][i] = 1\n",
      "C:\\Users\\cami_\\AppData\\Local\\Temp\\ipykernel_6444\\1583429896.py:5: SettingWithCopyWarning: \n",
      "A value is trying to be set on a copy of a slice from a DataFrame\n",
      "\n",
      "See the caveats in the documentation: https://pandas.pydata.org/pandas-docs/stable/user_guide/indexing.html#returning-a-view-versus-a-copy\n",
      "  data[\"ENSEMBL_PROM\"][i] = 0\n"
     ]
    }
   ],
   "source": [
    "for i in range(len(data[\"ENSEMBL_PROM\"])):\n",
    "    if data[\"PROM_PROB\"][i] > thresholds[ix]:\n",
    "        data[\"ENSEMBL_PROM\"][i] = 1\n",
    "    else:\n",
    "        data[\"ENSEMBL_PROM\"][i] = 0\n"
   ]
  },
  {
   "cell_type": "code",
   "execution_count": 7,
   "id": "884c3ce6",
   "metadata": {},
   "outputs": [
    {
     "name": "stdout",
     "output_type": "stream",
     "text": [
      "AUC AUCcr ACCURACY B_ACCURACY F MCC ALPHA\n",
      "[[0.9702828837828839, 0.9684511377182848, 0.9997891880582849, 0.9992708520407658, 0.998922614021991, 0.8131972445907418, 0.05806060606060606]]\n"
     ]
    }
   ],
   "source": [
    "y = data[\"status\"]\n",
    "y = y.to_frame()\n",
    "y_pred = data[\"ENSEMBL_PROM\"]\n",
    "y_pred = y_pred.to_frame()\n",
    "fixed_SVM = fixed_metrics(y,y_pred)\n",
    "print(\"AUC\",\"AUCcr\",\"ACCURACY\",\"B_ACCURACY\",\"F\",\"MCC\",\"ALPHA\")\n",
    "print(fixed_SVM)"
   ]
  },
  {
   "cell_type": "markdown",
   "id": "7fbcd4b1",
   "metadata": {},
   "source": [
    "### SAVING RESULTS"
   ]
  },
  {
   "cell_type": "code",
   "execution_count": 8,
   "id": "504d76cb",
   "metadata": {},
   "outputs": [],
   "source": [
    "data.to_excel(filename, sheet_name='UNWEIGHTED')"
   ]
  },
  {
   "cell_type": "markdown",
   "id": "545b31c5",
   "metadata": {},
   "source": [
    "# threshold prom weighted\n"
   ]
  },
  {
   "cell_type": "code",
   "execution_count": 10,
   "id": "5dbf3917",
   "metadata": {},
   "outputs": [
    {
     "name": "stdout",
     "output_type": "stream",
     "text": [
      "                status   prob_rf   prob_LP  prob_ADA_logit  PROM_PROB  \\\n",
      "genes                                                                   \n",
      "LOC_Os03g50290       0  0.591399  0.826900    9.368151e-01   0.785038   \n",
      "LOC_Os04g38870       1  0.816028  1.000000    1.000000e+00   0.938676   \n",
      "LOC_Os08g33370       0  0.616210  0.911300    9.980903e-01   0.841867   \n",
      "LOC_Os08g37490       0  0.610456  0.911300    9.995047e-01   0.840420   \n",
      "LOC_Os02g36974       0  0.604735  0.863488    9.960630e-01   0.821429   \n",
      "...                ...       ...       ...             ...        ...   \n",
      "LOC_Os05g37130       0  0.335608  0.087679    1.000000e+00   0.474429   \n",
      "LOC_Os04g45020       0  0.430926  0.102194    1.970000e-08   0.177707   \n",
      "LOC_Os02g11870       0  0.414629  0.257382    9.090000e-06   0.224007   \n",
      "LOC_Os01g43050       0  0.452317  0.364632    3.850000e-07   0.272317   \n",
      "LOC_Os05g41160       0  0.465784  0.320154    9.580000e-09   0.261979   \n",
      "\n",
      "                pred_rf  pred_LP  pred_ADA_logit  ENSEMBLE_THRESHOLD  \\\n",
      "genes                                                                  \n",
      "LOC_Os03g50290        0        0               1                   0   \n",
      "LOC_Os04g38870        0        1               1                   1   \n",
      "LOC_Os08g33370        0        0               1                   0   \n",
      "LOC_Os08g37490        0        0               1                   0   \n",
      "LOC_Os02g36974        0        0               1                   0   \n",
      "...                 ...      ...             ...                 ...   \n",
      "LOC_Os05g37130        0        0               1                   0   \n",
      "LOC_Os04g45020        0        0               0                   0   \n",
      "LOC_Os02g11870        0        0               0                   0   \n",
      "LOC_Os01g43050        0        0               0                   0   \n",
      "LOC_Os05g41160        0        0               0                   0   \n",
      "\n",
      "                ENSEMBL_PROM  \n",
      "genes                         \n",
      "LOC_Os03g50290           NaN  \n",
      "LOC_Os04g38870           NaN  \n",
      "LOC_Os08g33370           NaN  \n",
      "LOC_Os08g37490           NaN  \n",
      "LOC_Os02g36974           NaN  \n",
      "...                      ...  \n",
      "LOC_Os05g37130           NaN  \n",
      "LOC_Os04g45020           NaN  \n",
      "LOC_Os02g11870           NaN  \n",
      "LOC_Os01g43050           NaN  \n",
      "LOC_Os05g41160           NaN  \n",
      "\n",
      "[17228 rows x 10 columns]\n"
     ]
    }
   ],
   "source": [
    "filename = \"D:/REPO_GITHUB/ALUMINUM_GENES_CLASSIFICATION/ENSEMBLE/CANDIDATES_GOCompare_ENSEMBLE_WEIGHTED.xlsx\"\n",
    "#filename = \"/users/ccsosaa/pecanpy/BIG_COMP_W.emb\"\n",
    "data=pd.read_excel(filename,sheet_name=\"WEIGHTED\",index_col=0)\n",
    "print(data)"
   ]
  },
  {
   "cell_type": "code",
   "execution_count": 11,
   "id": "2b8d0065",
   "metadata": {},
   "outputs": [],
   "source": [
    "# roc curve for logistic regression model with optimal threshold\n",
    "from numpy import sqrt\n",
    "from numpy import argmax\n",
    "from sklearn.datasets import make_classification\n",
    "from sklearn.linear_model import LogisticRegression\n",
    "from sklearn.model_selection import train_test_split\n",
    "from sklearn.metrics import roc_curve\n",
    "from matplotlib import pyplot\n",
    "fpr, tpr, thresholds = roc_curve(data[\"status\"], data[\"PROM_PROB\"])"
   ]
  },
  {
   "cell_type": "code",
   "execution_count": 12,
   "id": "89e6b27b",
   "metadata": {},
   "outputs": [
    {
     "name": "stdout",
     "output_type": "stream",
     "text": [
      "Best Threshold=0.585978, G-Mean=0.969\n"
     ]
    },
    {
     "data": {
      "image/png": "[encoded data removed]",
      "text/plain": [
       "<Figure size 640x480 with 1 Axes>"
      ]
     },
     "metadata": {},
     "output_type": "display_data"
    }
   ],
   "source": [
    "# calculate the g-mean for each threshold\n",
    "gmeans = sqrt(tpr * (1-fpr))\n",
    "# locate the index of the largest g-mean\n",
    "ix = argmax(gmeans)\n",
    "print('Best Threshold=%f, G-Mean=%.3f' % (thresholds[ix], gmeans[ix]))\n",
    "# plot the roc curve for the model\n",
    "pyplot.plot([0,1], [0,1], linestyle='--', label='No Skill')\n",
    "pyplot.plot(fpr, tpr, marker='.', label='Average probability')\n",
    "pyplot.scatter(fpr[ix], tpr[ix], marker='o', color='black', label='Best')\n",
    "# axis labels\n",
    "pyplot.xlabel('False Positive Rate')\n",
    "pyplot.ylabel('True Positive Rate')\n",
    "pyplot.legend()\n",
    "# show the plot\n",
    "pyplot.show()"
   ]
  },
  {
   "cell_type": "code",
   "execution_count": 13,
   "id": "36df19ec",
   "metadata": {},
   "outputs": [
    {
     "name": "stderr",
     "output_type": "stream",
     "text": [
      "C:\\Users\\cami_\\AppData\\Local\\Temp\\ipykernel_6444\\1583429896.py:3: SettingWithCopyWarning: \n",
      "A value is trying to be set on a copy of a slice from a DataFrame\n",
      "\n",
      "See the caveats in the documentation: https://pandas.pydata.org/pandas-docs/stable/user_guide/indexing.html#returning-a-view-versus-a-copy\n",
      "  data[\"ENSEMBL_PROM\"][i] = 1\n",
      "C:\\Users\\cami_\\AppData\\Local\\Temp\\ipykernel_6444\\1583429896.py:5: SettingWithCopyWarning: \n",
      "A value is trying to be set on a copy of a slice from a DataFrame\n",
      "\n",
      "See the caveats in the documentation: https://pandas.pydata.org/pandas-docs/stable/user_guide/indexing.html#returning-a-view-versus-a-copy\n",
      "  data[\"ENSEMBL_PROM\"][i] = 0\n"
     ]
    }
   ],
   "source": [
    "for i in range(len(data[\"ENSEMBL_PROM\"])):\n",
    "    if data[\"PROM_PROB\"][i] > thresholds[ix]:\n",
    "        data[\"ENSEMBL_PROM\"][i] = 1\n",
    "    else:\n",
    "        data[\"ENSEMBL_PROM\"][i] = 0\n"
   ]
  },
  {
   "cell_type": "code",
   "execution_count": 14,
   "id": "fb99b057",
   "metadata": {},
   "outputs": [
    {
     "name": "stdout",
     "output_type": "stream",
     "text": [
      "AUC AUCcr ACCURACY B_ACCURACY F MCC ALPHA\n",
      "[[0.9692222777222776, 0.9672514079072406, 0.9997836068041547, 0.9992692063208604, 0.9989165876262648, 0.809526467890403, 0.060181818181818184]]\n"
     ]
    }
   ],
   "source": [
    "y = data[\"status\"]\n",
    "y = y.to_frame()\n",
    "y_pred = data[\"ENSEMBL_PROM\"]\n",
    "y_pred = y_pred.to_frame()\n",
    "fixed_SVM = fixed_metrics(y,y_pred)\n",
    "print(\"AUC\",\"AUCcr\",\"ACCURACY\",\"B_ACCURACY\",\"F\",\"MCC\",\"ALPHA\")\n",
    "print(fixed_SVM)"
   ]
  },
  {
   "cell_type": "markdown",
   "id": "67a6592e",
   "metadata": {},
   "source": [
    "### SAVING RESULTS"
   ]
  },
  {
   "cell_type": "code",
   "execution_count": 15,
   "id": "d1c6fe3e",
   "metadata": {},
   "outputs": [],
   "source": [
    "data.to_excel(filename, sheet_name='WEIGHTED')"
   ]
  },
  {
   "cell_type": "code",
   "execution_count": null,
   "id": "4fb6d05a",
   "metadata": {},
   "outputs": [],
   "source": []
  }
 ],
 "metadata": {
  "kernelspec": {
   "display_name": "Python 3 (ipykernel)",
   "language": "python",
   "name": "python3"
  },
  "language_info": {
   "codemirror_mode": {
    "name": "ipython",
    "version": 3
   },
   "file_extension": ".py",
   "mimetype": "text/x-python",
   "name": "python",
   "nbconvert_exporter": "python",
   "pygments_lexer": "ipython3",
   "version": "3.8.16"
  }
 },
 "nbformat": 4,
 "nbformat_minor": 5
}
