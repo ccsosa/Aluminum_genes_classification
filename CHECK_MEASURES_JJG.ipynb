{
 "cells": [
  {
   "cell_type": "code",
   "execution_count": 1,
   "id": "7a808951",
   "metadata": {},
   "outputs": [
    {
     "name": "stderr",
     "output_type": "stream",
     "text": [
      "<frozen importlib._bootstrap>:219: RuntimeWarning: scipy._lib.messagestream.MessageStream size changed, may indicate binary incompatibility. Expected 56 from C header, got 64 from PyObject\n"
     ]
    }
   ],
   "source": [
    "#!/usr/bin/env python\n",
    "# coding: utf-8\n",
    "\n",
    "# In[2]:\n",
    "\n",
    "\n",
    "#import matplotlib.pyplot as plt\n",
    "#import numpy as np\n",
    "import pandas as pd\n",
    "#import networkx as nx\n",
    "#import csv\n",
    "#from sys import stdin\n",
    "#from networkx.algorithms.community import greedy_modularity_communities\n",
    "#from networkx.algorithms.community import k_clique_communities\n",
    "#from networkx.algorithms.community import asyn_lpa_communities\n",
    "#from networkx.algorithms.community import modularity\n",
    "#from cdlib import algorithms, readwrite, viz\n",
    "#from sklearn.manifold import TSNE\n",
    "#from sklearn.model_selection import train_test_split\n",
    "#from sklearn.linear_model import LogisticRegressionCV\n",
    "#from sklearn.metrics import accuracy_score\n",
    "#from gensim.models import Word2Vec\n",
    "from sklearn import preprocessing\n",
    "import sklearn.metrics as sk_metrics\n",
    "#import seaborn as sns\n",
    "\n",
    "#################\n",
    "def fixed_metrics(y,y_pred):\n",
    "    from sklearn import metrics\n",
    "    import pandas as pd\n",
    "    import sklearn.metrics as sk_metrics\n",
    "    \n",
    "\n",
    "    cm = sk_metrics.confusion_matrix(y, y_pred)\n",
    "\n",
    "    results_partial = y.copy()\n",
    "    results_partial=pd.DataFrame(results_partial)\n",
    "    results_partial[\"pred\"] = y_pred\n",
    "    results_partial = results_partial[(results_partial.iloc[:,0]<1)]\n",
    "    \n",
    "    alfa = sum(results_partial[\"pred\"])/results_partial.shape[0]\n",
    "    beta = 1\n",
    "    \n",
    "    fpr, tpr, thresholds = metrics.roc_curve(y, y_pred, pos_label=1)\n",
    "\n",
    "    \n",
    "    TN = cm[0,0]\n",
    "    FN = cm[1,0]\n",
    "    TP = cm[1,1]\n",
    "    FP = cm[0,1]\n",
    "    \n",
    "    theta = (TP+FP)/(TP+FN+TN+FP)\n",
    "    n=FP/(TN+FP)\n",
    "    #pi = (TP+FN)/(TP+FN+TN+FP)\n",
    "    c= len(y[(y.iloc[:,0]==1)])/(len(y[(y.iloc[:,0]==1)])+len(y[(y.iloc[:,0]==0)]))\n",
    "    gamma = TP/(TP+FN)\n",
    "    if beta-alfa==0:\n",
    "        gamma_cr = float('inf')\n",
    "        n_cr = float('inf')\n",
    "    else:\n",
    "        gamma_cr = ((beta-alfa)**-1)*((1-alfa)*gamma-(1-beta)*n)\n",
    "        n_cr = ((beta-alfa)**-1)*((beta*n)-(alfa*gamma))\n",
    "        \n",
    "    pi_cr = (c*beta)+((1-c)*alfa)\n",
    "    ##metrics\n",
    "    ACC_cr = (pi_cr*gamma_cr) + ((1-pi_cr)*(1-n_cr))\n",
    "    bacc_cr = (1 + (gamma_cr - n_cr))/2\n",
    "    f_cr = (2*pi_cr*gamma_cr)/(pi_cr+theta)\n",
    "    mcc_cr = (pi_cr*(1-pi_cr)/theta*(1-theta))*(gamma_cr-n_cr)\n",
    "    \n",
    "    auc_r = metrics.auc(fpr, tpr)\n",
    "    auc_cr = (auc_r-(1-(beta-alfa)))/(beta-alfa)\n",
    "    alfa = sum(results_partial[\"pred\"])/results_partial.shape[0]\n",
    "    \n",
    "    metrics_df =[[auc_r,auc_cr,ACC_cr,bacc_cr,f_cr,mcc_cr,alfa]]\n",
    "    return(metrics_df)\n"
   ]
  },
  {
   "cell_type": "code",
   "execution_count": 2,
   "id": "acf0db0b",
   "metadata": {},
   "outputs": [],
   "source": [
    "filename = \"D:/TESIS_PHD/RICENETPPI/out_pred_JJG.csv\"\n",
    "#filename = \"/users/ccsosaa/pecanpy/BIG_COMP_W.emb\"\n",
    "data = pd.read_csv(filename,index_col=0)\n",
    "#print(data)"
   ]
  },
  {
   "cell_type": "markdown",
   "id": "f41ddbef",
   "metadata": {},
   "source": [
    "# PROB >= 0.9"
   ]
  },
  {
   "cell_type": "code",
   "execution_count": 3,
   "id": "acb40740",
   "metadata": {},
   "outputs": [
    {
     "name": "stdout",
     "output_type": "stream",
     "text": [
      "AUC AUCcr ACCURACY B_ACCURACY F MCC ALPHA\n",
      "[[0.5, 0.5, 0.9964012073368934, 0.5, 0.0, nan, 0.0]]\n"
     ]
    },
    {
     "name": "stderr",
     "output_type": "stream",
     "text": [
      "C:\\Users\\cami_\\AppData\\Local\\Temp\\ipykernel_9476\\3845178042.py:69: RuntimeWarning: divide by zero encountered in double_scalars\n",
      "  mcc_cr = (pi_cr*(1-pi_cr)/theta*(1-theta))*(gamma_cr-n_cr)\n",
      "C:\\Users\\cami_\\AppData\\Local\\Temp\\ipykernel_9476\\3845178042.py:69: RuntimeWarning: invalid value encountered in double_scalars\n",
      "  mcc_cr = (pi_cr*(1-pi_cr)/theta*(1-theta))*(gamma_cr-n_cr)\n"
     ]
    }
   ],
   "source": [
    "y = data[\"1\"]\n",
    "y = y.to_frame()\n",
    "y_pred = data[\"pred_svm\"]\n",
    "y_pred = y_pred.to_frame()\n",
    "fixed_SVM = fixed_metrics(y,y_pred)\n",
    "print(\"AUC\",\"AUCcr\",\"ACCURACY\",\"B_ACCURACY\",\"F\",\"MCC\",\"ALPHA\")\n",
    "print(fixed_SVM)"
   ]
  },
  {
   "cell_type": "code",
   "execution_count": 4,
   "id": "2f73be65",
   "metadata": {},
   "outputs": [
    {
     "name": "stdout",
     "output_type": "stream",
     "text": [
      "AUC AUCcr ACCURACY B_ACCURACY F MCC ALPHA\n",
      "[[0.9919354838709677, 0.9919354838709677, 0.9999419549570466, 0.9919354838709677, 0.991869918699187, 0.9928732021332975, 0.0]]\n"
     ]
    }
   ],
   "source": [
    "y = data[\"1\"]\n",
    "y = y.to_frame()\n",
    "y_pred = data[\"pred_lda\"]\n",
    "y_pred = y_pred.to_frame()\n",
    "fixed_LDA = fixed_metrics(y,y_pred)\n",
    "print(\"AUC\",\"AUCcr\",\"ACCURACY\",\"B_ACCURACY\",\"F\",\"MCC\",\"ALPHA\")\n",
    "print(fixed_LDA)"
   ]
  },
  {
   "cell_type": "code",
   "execution_count": 5,
   "id": "37d49ad6",
   "metadata": {},
   "outputs": [
    {
     "name": "stdout",
     "output_type": "stream",
     "text": [
      "AUC AUCcr ACCURACY B_ACCURACY F MCC ALPHA\n",
      "[[0.5, 0.5, 0.9964012073368934, 0.5, 0.0, nan, 0.0]]\n"
     ]
    },
    {
     "name": "stderr",
     "output_type": "stream",
     "text": [
      "C:\\Users\\cami_\\AppData\\Local\\Temp\\ipykernel_9476\\3845178042.py:69: RuntimeWarning: divide by zero encountered in double_scalars\n",
      "  mcc_cr = (pi_cr*(1-pi_cr)/theta*(1-theta))*(gamma_cr-n_cr)\n",
      "C:\\Users\\cami_\\AppData\\Local\\Temp\\ipykernel_9476\\3845178042.py:69: RuntimeWarning: invalid value encountered in double_scalars\n",
      "  mcc_cr = (pi_cr*(1-pi_cr)/theta*(1-theta))*(gamma_cr-n_cr)\n"
     ]
    }
   ],
   "source": [
    "y = data[\"1\"]\n",
    "y = y.to_frame()\n",
    "y_pred = data[\"pred_rf\"]\n",
    "y_pred = y_pred.to_frame()\n",
    "fixed_RF = fixed_metrics(y,y_pred)\n",
    "print(\"AUC\",\"AUCcr\",\"ACCURACY\",\"B_ACCURACY\",\"F\",\"MCC\",\"ALPHA\")\n",
    "print(fixed_RF)"
   ]
  },
  {
   "cell_type": "markdown",
   "id": "7707c057",
   "metadata": {},
   "source": [
    "# PROB >= 0.8"
   ]
  },
  {
   "cell_type": "code",
   "execution_count": 6,
   "id": "79b449ba",
   "metadata": {},
   "outputs": [
    {
     "name": "stderr",
     "output_type": "stream",
     "text": [
      "C:\\Users\\cami_\\AppData\\Local\\Temp\\ipykernel_9476\\3509507299.py:5: SettingWithCopyWarning: \n",
      "A value is trying to be set on a copy of a slice from a DataFrame\n",
      "\n",
      "See the caveats in the documentation: https://pandas.pydata.org/pandas-docs/stable/user_guide/indexing.html#returning-a-view-versus-a-copy\n",
      "  data[\"pred_svm\"][i] = 0\n",
      "C:\\Users\\cami_\\AppData\\Local\\Temp\\ipykernel_9476\\3509507299.py:11: SettingWithCopyWarning: \n",
      "A value is trying to be set on a copy of a slice from a DataFrame\n",
      "\n",
      "See the caveats in the documentation: https://pandas.pydata.org/pandas-docs/stable/user_guide/indexing.html#returning-a-view-versus-a-copy\n",
      "  data[\"pred_lda\"][i] = 0\n",
      "C:\\Users\\cami_\\AppData\\Local\\Temp\\ipykernel_9476\\3509507299.py:9: SettingWithCopyWarning: \n",
      "A value is trying to be set on a copy of a slice from a DataFrame\n",
      "\n",
      "See the caveats in the documentation: https://pandas.pydata.org/pandas-docs/stable/user_guide/indexing.html#returning-a-view-versus-a-copy\n",
      "  data[\"pred_lda\"][i] = 1\n",
      "C:\\Users\\cami_\\AppData\\Local\\Temp\\ipykernel_9476\\3509507299.py:17: SettingWithCopyWarning: \n",
      "A value is trying to be set on a copy of a slice from a DataFrame\n",
      "\n",
      "See the caveats in the documentation: https://pandas.pydata.org/pandas-docs/stable/user_guide/indexing.html#returning-a-view-versus-a-copy\n",
      "  data[\"pred_rf\"][i] = 0\n",
      "C:\\Users\\cami_\\AppData\\Local\\Temp\\ipykernel_9476\\3509507299.py:15: SettingWithCopyWarning: \n",
      "A value is trying to be set on a copy of a slice from a DataFrame\n",
      "\n",
      "See the caveats in the documentation: https://pandas.pydata.org/pandas-docs/stable/user_guide/indexing.html#returning-a-view-versus-a-copy\n",
      "  data[\"pred_rf\"][i] = 1\n"
     ]
    }
   ],
   "source": [
    "for i in range(len(data[\"pred_svm\"])):\n",
    "    if data[\"prob_svm\"][i] >= 0.8:\n",
    "        data[\"pred_svm\"][i] = 1\n",
    "    else:\n",
    "        data[\"pred_svm\"][i] = 0\n",
    "\n",
    "for i in range(len(data[\"pred_lda\"])):\n",
    "    if data[\"prob_lda\"][i] >= 0.8:\n",
    "        data[\"pred_lda\"][i] = 1\n",
    "    else:\n",
    "        data[\"pred_lda\"][i] = 0\n",
    "\n",
    "for i in range(len(data[\"pred_rf\"])):\n",
    "    if data[\"prob_rf\"][i] >= 0.8:\n",
    "        data[\"pred_rf\"][i] = 1\n",
    "    else:\n",
    "        data[\"pred_rf\"][i] = 0\n"
   ]
  },
  {
   "cell_type": "code",
   "execution_count": 7,
   "id": "8299ba29",
   "metadata": {},
   "outputs": [
    {
     "name": "stdout",
     "output_type": "stream",
     "text": [
      "AUC AUCcr ACCURACY B_ACCURACY F MCC ALPHA\n",
      "[[0.5, 0.5, 0.9964012073368934, 0.5, 0.0, nan, 0.0]]\n"
     ]
    },
    {
     "name": "stderr",
     "output_type": "stream",
     "text": [
      "C:\\Users\\cami_\\AppData\\Local\\Temp\\ipykernel_9476\\3845178042.py:69: RuntimeWarning: divide by zero encountered in double_scalars\n",
      "  mcc_cr = (pi_cr*(1-pi_cr)/theta*(1-theta))*(gamma_cr-n_cr)\n",
      "C:\\Users\\cami_\\AppData\\Local\\Temp\\ipykernel_9476\\3845178042.py:69: RuntimeWarning: invalid value encountered in double_scalars\n",
      "  mcc_cr = (pi_cr*(1-pi_cr)/theta*(1-theta))*(gamma_cr-n_cr)\n"
     ]
    }
   ],
   "source": [
    "y = data[\"1\"]\n",
    "y = y.to_frame()\n",
    "y_pred = data[\"pred_svm\"]\n",
    "y_pred = y_pred.to_frame()\n",
    "fixed_SVM = fixed_metrics(y,y_pred)\n",
    "print(\"AUC\",\"AUCcr\",\"ACCURACY\",\"B_ACCURACY\",\"F\",\"MCC\",\"ALPHA\")\n",
    "print(fixed_SVM)"
   ]
  },
  {
   "cell_type": "code",
   "execution_count": 8,
   "id": "3ebb2db3",
   "metadata": {},
   "outputs": [
    {
     "name": "stdout",
     "output_type": "stream",
     "text": [
      "AUC AUCcr ACCURACY B_ACCURACY F MCC ALPHA\n",
      "[[0.9998834906209949, 0.9998834634657965, 1.0, 1.0, 1.0, 0.9923527306830222, 0.0002330187580100198]]\n"
     ]
    }
   ],
   "source": [
    "y = data[\"1\"]\n",
    "y = y.to_frame()\n",
    "y_pred = data[\"pred_lda\"]\n",
    "y_pred = y_pred.to_frame()\n",
    "fixed_LDA = fixed_metrics(y,y_pred)\n",
    "print(\"AUC\",\"AUCcr\",\"ACCURACY\",\"B_ACCURACY\",\"F\",\"MCC\",\"ALPHA\")\n",
    "print(fixed_LDA)"
   ]
  },
  {
   "cell_type": "code",
   "execution_count": 9,
   "id": "7daa257f",
   "metadata": {},
   "outputs": [
    {
     "name": "stdout",
     "output_type": "stream",
     "text": [
      "AUC AUCcr ACCURACY B_ACCURACY F MCC ALPHA\n",
      "[[0.8548387096774194, 0.8548387096774194, 0.99895518922684, 0.8548387096774194, 0.8301886792452831, 0.9938564166982341, 0.0]]\n"
     ]
    }
   ],
   "source": [
    "y = data[\"1\"]\n",
    "y = y.to_frame()\n",
    "y_pred = data[\"pred_rf\"]\n",
    "y_pred = y_pred.to_frame()\n",
    "fixed_RF = fixed_metrics(y,y_pred)\n",
    "print(\"AUC\",\"AUCcr\",\"ACCURACY\",\"B_ACCURACY\",\"F\",\"MCC\",\"ALPHA\")\n",
    "print(fixed_RF)"
   ]
  },
  {
   "cell_type": "markdown",
   "id": "b113030d",
   "metadata": {},
   "source": [
    "# PROB >= 0.7"
   ]
  },
  {
   "cell_type": "code",
   "execution_count": 10,
   "id": "bf400e72",
   "metadata": {},
   "outputs": [
    {
     "name": "stderr",
     "output_type": "stream",
     "text": [
      "C:\\Users\\cami_\\AppData\\Local\\Temp\\ipykernel_9476\\2643906724.py:5: SettingWithCopyWarning: \n",
      "A value is trying to be set on a copy of a slice from a DataFrame\n",
      "\n",
      "See the caveats in the documentation: https://pandas.pydata.org/pandas-docs/stable/user_guide/indexing.html#returning-a-view-versus-a-copy\n",
      "  data[\"pred_svm\"][i] = 0\n",
      "C:\\Users\\cami_\\AppData\\Local\\Temp\\ipykernel_9476\\2643906724.py:11: SettingWithCopyWarning: \n",
      "A value is trying to be set on a copy of a slice from a DataFrame\n",
      "\n",
      "See the caveats in the documentation: https://pandas.pydata.org/pandas-docs/stable/user_guide/indexing.html#returning-a-view-versus-a-copy\n",
      "  data[\"pred_lda\"][i] = 0\n",
      "C:\\Users\\cami_\\AppData\\Local\\Temp\\ipykernel_9476\\2643906724.py:9: SettingWithCopyWarning: \n",
      "A value is trying to be set on a copy of a slice from a DataFrame\n",
      "\n",
      "See the caveats in the documentation: https://pandas.pydata.org/pandas-docs/stable/user_guide/indexing.html#returning-a-view-versus-a-copy\n",
      "  data[\"pred_lda\"][i] = 1\n",
      "C:\\Users\\cami_\\AppData\\Local\\Temp\\ipykernel_9476\\2643906724.py:17: SettingWithCopyWarning: \n",
      "A value is trying to be set on a copy of a slice from a DataFrame\n",
      "\n",
      "See the caveats in the documentation: https://pandas.pydata.org/pandas-docs/stable/user_guide/indexing.html#returning-a-view-versus-a-copy\n",
      "  data[\"pred_rf\"][i] = 0\n",
      "C:\\Users\\cami_\\AppData\\Local\\Temp\\ipykernel_9476\\2643906724.py:15: SettingWithCopyWarning: \n",
      "A value is trying to be set on a copy of a slice from a DataFrame\n",
      "\n",
      "See the caveats in the documentation: https://pandas.pydata.org/pandas-docs/stable/user_guide/indexing.html#returning-a-view-versus-a-copy\n",
      "  data[\"pred_rf\"][i] = 1\n"
     ]
    }
   ],
   "source": [
    "for i in range(len(data[\"pred_svm\"])):\n",
    "    if data[\"prob_svm\"][i] >= 0.7:\n",
    "        data[\"pred_svm\"][i] = 1\n",
    "    else:\n",
    "        data[\"pred_svm\"][i] = 0\n",
    "\n",
    "for i in range(len(data[\"pred_lda\"])):\n",
    "    if data[\"prob_lda\"][i] >= 0.7:\n",
    "        data[\"pred_lda\"][i] = 1\n",
    "    else:\n",
    "        data[\"pred_lda\"][i] = 0\n",
    "\n",
    "for i in range(len(data[\"pred_rf\"])):\n",
    "    if data[\"prob_rf\"][i] >= 0.7:\n",
    "        data[\"pred_rf\"][i] = 1\n",
    "    else:\n",
    "        data[\"pred_rf\"][i] = 0\n"
   ]
  },
  {
   "cell_type": "code",
   "execution_count": 11,
   "id": "e52e2c4e",
   "metadata": {},
   "outputs": [
    {
     "name": "stdout",
     "output_type": "stream",
     "text": [
      "AUC AUCcr ACCURACY B_ACCURACY F MCC ALPHA\n",
      "[[0.006582779913783032, -74.4557522123897, -0.9701648479219841, -36.97787610619485, 0.0, -0.016497676122837996, 0.9868344401724339]]\n"
     ]
    }
   ],
   "source": [
    "y = data[\"1\"]\n",
    "y = y.to_frame()\n",
    "y_pred = data[\"pred_A_svm\"]\n",
    "y_pred = y_pred.to_frame()\n",
    "fixed_SVM = fixed_metrics(y,y_pred)\n",
    "print(\"AUC\",\"AUCcr\",\"ACCURACY\",\"B_ACCURACY\",\"F\",\"MCC\",\"ALPHA\")\n",
    "print(fixed_SVM)"
   ]
  },
  {
   "cell_type": "code",
   "execution_count": 12,
   "id": "8c1120a2",
   "metadata": {},
   "outputs": [
    {
     "name": "stdout",
     "output_type": "stream",
     "text": [
      "AUC AUCcr ACCURACY B_ACCURACY F MCC ALPHA\n",
      "[[0.7641558895491087, 0.5535891498511414, 1.0, 1.0, 1.0, 0.27710800876581226, 0.4716882209017826]]\n"
     ]
    }
   ],
   "source": [
    "y = data[\"1\"]\n",
    "y = y.to_frame()\n",
    "y_pred = data[\"pred_A_lda\"]\n",
    "y_pred = y_pred.to_frame()\n",
    "fixed_LDA = fixed_metrics(y,y_pred)\n",
    "print(\"AUC\",\"AUCcr\",\"ACCURACY\",\"B_ACCURACY\",\"F\",\"MCC\",\"ALPHA\")\n",
    "print(fixed_LDA)"
   ]
  },
  {
   "cell_type": "code",
   "execution_count": 13,
   "id": "9ead42c9",
   "metadata": {},
   "outputs": [
    {
     "name": "stdout",
     "output_type": "stream",
     "text": [
      "AUC AUCcr ACCURACY B_ACCURACY F MCC ALPHA\n",
      "[[0.7217756029360364, 0.37273443656422395, 0.9999999999999999, 1.0, 0.9999999999999998, 0.19532418405812232, 0.5564487941279272]]\n"
     ]
    }
   ],
   "source": [
    "y = data[\"1\"]\n",
    "y = y.to_frame()\n",
    "y_pred = data[\"pred_A_rf\"]\n",
    "y_pred = y_pred.to_frame()\n",
    "fixed_RF = fixed_metrics(y,y_pred)\n",
    "print(\"AUC\",\"AUCcr\",\"ACCURACY\",\"B_ACCURACY\",\"F\",\"MCC\",\"ALPHA\")\n",
    "print(fixed_RF)"
   ]
  },
  {
   "cell_type": "markdown",
   "id": "08661a3f",
   "metadata": {},
   "source": [
    "# PROB max between 0 and 1 classes"
   ]
  },
  {
   "cell_type": "code",
   "execution_count": 14,
   "id": "facae8d3",
   "metadata": {},
   "outputs": [
    {
     "name": "stdout",
     "output_type": "stream",
     "text": [
      "AUC AUCcr ACCURACY B_ACCURACY F MCC ALPHA\n",
      "[[0.006582779913783032, -74.4557522123897, -0.9701648479219841, -36.97787610619485, 0.0, -0.016497676122837996, 0.9868344401724339]]\n"
     ]
    }
   ],
   "source": [
    "y = data[\"1\"]\n",
    "y = y.to_frame()\n",
    "y_pred = data[\"pred_A_svm\"]\n",
    "y_pred = y_pred.to_frame()\n",
    "fixed_SVM = fixed_metrics(y,y_pred)\n",
    "print(\"AUC\",\"AUCcr\",\"ACCURACY\",\"B_ACCURACY\",\"F\",\"MCC\",\"ALPHA\")\n",
    "print(fixed_SVM)"
   ]
  },
  {
   "cell_type": "code",
   "execution_count": 15,
   "id": "71676e4f",
   "metadata": {},
   "outputs": [
    {
     "name": "stdout",
     "output_type": "stream",
     "text": [
      "AUC AUCcr ACCURACY B_ACCURACY F MCC ALPHA\n",
      "[[0.7641558895491087, 0.5535891498511414, 1.0, 1.0, 1.0, 0.27710800876581226, 0.4716882209017826]]\n"
     ]
    }
   ],
   "source": [
    "y = data[\"1\"]\n",
    "y = y.to_frame()\n",
    "y_pred = data[\"pred_A_lda\"]\n",
    "y_pred = y_pred.to_frame()\n",
    "fixed_LDA = fixed_metrics(y,y_pred)\n",
    "print(\"AUC\",\"AUCcr\",\"ACCURACY\",\"B_ACCURACY\",\"F\",\"MCC\",\"ALPHA\")\n",
    "print(fixed_LDA)"
   ]
  },
  {
   "cell_type": "code",
   "execution_count": 16,
   "id": "8c7eb7dd",
   "metadata": {},
   "outputs": [
    {
     "name": "stdout",
     "output_type": "stream",
     "text": [
      "AUC AUCcr ACCURACY B_ACCURACY F MCC ALPHA\n",
      "[[0.7217756029360364, 0.37273443656422395, 0.9999999999999999, 1.0, 0.9999999999999998, 0.19532418405812232, 0.5564487941279272]]\n"
     ]
    }
   ],
   "source": [
    "y = data[\"1\"]\n",
    "y = y.to_frame()\n",
    "y_pred = data[\"pred_A_rf\"]\n",
    "y_pred = y_pred.to_frame()\n",
    "fixed_RF = fixed_metrics(y,y_pred)\n",
    "print(\"AUC\",\"AUCcr\",\"ACCURACY\",\"B_ACCURACY\",\"F\",\"MCC\",\"ALPHA\")\n",
    "print(fixed_RF)"
   ]
  }
 ],
 "metadata": {
  "kernelspec": {
   "display_name": "Python 3 (ipykernel)",
   "language": "python",
   "name": "python3"
  },
  "language_info": {
   "codemirror_mode": {
    "name": "ipython",
    "version": 3
   },
   "file_extension": ".py",
   "mimetype": "text/x-python",
   "name": "python",
   "nbconvert_exporter": "python",
   "pygments_lexer": "ipython3",
   "version": "3.8.16"
  }
 },
 "nbformat": 4,
 "nbformat_minor": 5
}
