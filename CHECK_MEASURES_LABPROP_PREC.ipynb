{
 "cells": [
  {
   "cell_type": "markdown",
   "id": "32bf9470",
   "metadata": {},
   "source": [
    "# LOADING LIBRARIES"
   ]
  },
  {
   "cell_type": "code",
   "execution_count": 1,
   "id": "7a808951",
   "metadata": {},
   "outputs": [
    {
     "name": "stderr",
     "output_type": "stream",
     "text": [
      "<frozen importlib._bootstrap>:219: RuntimeWarning: scipy._lib.messagestream.MessageStream size changed, may indicate binary incompatibility. Expected 56 from C header, got 64 from PyObject\n"
     ]
    }
   ],
   "source": [
    "#!/usr/bin/env python\n",
    "# coding: utf-8\n",
    "\n",
    "# In[2]:\n",
    "\n",
    "#import matplotlib.pyplot as plt\n",
    "#import numpy as np\n",
    "import pandas as pd\n",
    "#import networkx as nx\n",
    "#import csv\n",
    "#from sys import stdin\n",
    "#from networkx.algorithms.community import greedy_modularity_communities\n",
    "#from networkx.algorithms.community import k_clique_communities\n",
    "#from networkx.algorithms.community import asyn_lpa_communities\n",
    "#from networkx.algorithms.community import modularity\n",
    "#from cdlib import algorithms, readwrite, viz\n",
    "#from sklearn.manifold import TSNE\n",
    "#from sklearn.model_selection import train_test_split\n",
    "#from sklearn.linear_model import LogisticRegressionCV\n",
    "#from sklearn.metrics import accuracy_score\n",
    "#from gensim.models import Word2Vec\n",
    "from sklearn import preprocessing\n",
    "import sklearn.metrics as sk_metrics\n",
    "#import seaborn as sns\n",
    "\n",
    "#################\n",
    "def fixed_metrics(y,y_pred):\n",
    "    from sklearn import metrics\n",
    "    import pandas as pd\n",
    "    import sklearn.metrics as sk_metrics\n",
    "    \n",
    "\n",
    "    cm = sk_metrics.confusion_matrix(y, y_pred)\n",
    "\n",
    "    results_partial = y.copy()\n",
    "    results_partial=pd.DataFrame(results_partial)\n",
    "    results_partial[\"pred\"] = y_pred\n",
    "    results_partial = results_partial[(results_partial.iloc[:,0]<1)]\n",
    "    \n",
    "    alfa = sum(results_partial[\"pred\"])/results_partial.shape[0]\n",
    "    beta = 1\n",
    "    \n",
    "    fpr, tpr, thresholds = metrics.roc_curve(y, y_pred, pos_label=1)\n",
    "\n",
    "    \n",
    "    TN = cm[0,0]\n",
    "    FN = cm[1,0]\n",
    "    TP = cm[1,1]\n",
    "    FP = cm[0,1]\n",
    "    \n",
    "    theta = (TP+FP)/(TP+FN+TN+FP)\n",
    "    n=FP/(TN+FP)\n",
    "    #pi = (TP+FN)/(TP+FN+TN+FP)\n",
    "    c= len(y[(y.iloc[:,0]==1)])/(len(y[(y.iloc[:,0]==1)])+len(y[(y.iloc[:,0]==0)]))\n",
    "    gamma = TP/(TP+FN)\n",
    "    if beta-alfa==0:\n",
    "        gamma_cr = float('inf')\n",
    "        n_cr = float('inf')\n",
    "    else:\n",
    "        gamma_cr = ((beta-alfa)**-1)*((1-alfa)*gamma-(1-beta)*n)\n",
    "        n_cr = ((beta-alfa)**-1)*((beta*n)-(alfa*gamma))\n",
    "        \n",
    "    pi_cr = (c*beta)+((1-c)*alfa)\n",
    "    ##metrics\n",
    "    ACC_cr = (pi_cr*gamma_cr) + ((1-pi_cr)*(1-n_cr))\n",
    "    bacc_cr = (1 + (gamma_cr - n_cr))/2\n",
    "    f_cr = (2*pi_cr*gamma_cr)/(pi_cr+theta)\n",
    "    mcc_cr = (pi_cr*(1-pi_cr)/theta*(1-theta))*(gamma_cr-n_cr)\n",
    "    \n",
    "    auc_r = metrics.auc(fpr, tpr)\n",
    "    auc_cr = (auc_r-(1-(beta-alfa)))/(beta-alfa)\n",
    "    alfa = sum(results_partial[\"pred\"])/results_partial.shape[0]\n",
    "    \n",
    "    metrics_df =[[auc_r,auc_cr,ACC_cr,bacc_cr,f_cr,mcc_cr,alfa]]\n",
    "    return(metrics_df)\n"
   ]
  },
  {
   "cell_type": "code",
   "execution_count": 2,
   "id": "68147ee4",
   "metadata": {},
   "outputs": [],
   "source": [
    "# roc curve for logistic regression model with optimal threshold\n",
    "from numpy import sqrt\n",
    "from numpy import argmax\n",
    "from sklearn.datasets import make_classification\n",
    "from sklearn.metrics import precision_recall_curve\n",
    "from sklearn.model_selection import train_test_split\n",
    "from sklearn.metrics import roc_curve\n",
    "from matplotlib import pyplot"
   ]
  },
  {
   "cell_type": "markdown",
   "id": "b6988c03",
   "metadata": {},
   "source": [
    "# threshold unweighted\n"
   ]
  },
  {
   "cell_type": "code",
   "execution_count": 3,
   "id": "acf0db0b",
   "metadata": {
    "scrolled": true
   },
   "outputs": [
    {
     "name": "stdout",
     "output_type": "stream",
     "text": [
      "                1   prob_LP  pred_LP  pred_A_LP\n",
      "0                                              \n",
      "LOC_Os03g50290  0  0.831400      0.0          1\n",
      "LOC_Os04g38870  1  1.000000      1.0          1\n",
      "LOC_Os08g33370  0  0.909800      1.0          1\n",
      "LOC_Os08g37490  0  0.878497      0.0          1\n",
      "LOC_Os02g36974  0  0.955600      1.0          1\n",
      "...            ..       ...      ...        ...\n",
      "LOC_Os05g37130  0  0.649908      0.0          1\n",
      "LOC_Os04g45020  0  0.328196      0.0          0\n",
      "LOC_Os02g11870  0  0.362166      0.0          0\n",
      "LOC_Os01g43050  0  0.254179      0.0          0\n",
      "LOC_Os05g41160  0  0.505414      0.0          1\n",
      "\n",
      "[17228 rows x 4 columns]\n"
     ]
    }
   ],
   "source": [
    "filename = \"D:/REPO_GITHUB/ALUMINUM_GENES_CLASSIFICATION/RESULTS/UNWEIGHTED/out_pred_LAB_PROP.csv\"\n",
    "#filename = \"/users/ccsosaa/pecanpy/BIG_COMP_W.emb\"\n",
    "data = pd.read_csv(filename,index_col=0)\n",
    "print(data)"
   ]
  },
  {
   "cell_type": "code",
   "execution_count": 4,
   "id": "8830bf34",
   "metadata": {},
   "outputs": [
    {
     "name": "stdout",
     "output_type": "stream",
     "text": [
      "                1   prob_LP  pred_LP  pred_A_LP\n",
      "0                                              \n",
      "LOC_Os03g50290  0  0.831400      0.0          1\n",
      "LOC_Os04g38870  1  1.000000      1.0          1\n",
      "LOC_Os08g33370  0  0.909800      1.0          1\n",
      "LOC_Os08g37490  0  0.878497      0.0          1\n",
      "LOC_Os02g36974  0  0.955600      1.0          1\n",
      "...            ..       ...      ...        ...\n",
      "LOC_Os05g37130  0  0.649908      0.0          1\n",
      "LOC_Os04g45020  0  0.328196      0.0          0\n",
      "LOC_Os02g11870  0  0.362166      0.0          0\n",
      "LOC_Os01g43050  0  0.254179      0.0          0\n",
      "LOC_Os05g41160  0  0.505414      0.0          1\n",
      "\n",
      "[17228 rows x 4 columns]\n"
     ]
    }
   ],
   "source": [
    "data['prob_LP'] =data['prob_LP'].fillna(0)\n",
    "print(data)"
   ]
  },
  {
   "cell_type": "code",
   "execution_count": 5,
   "id": "c18da6c3",
   "metadata": {},
   "outputs": [],
   "source": [
    "# roc curve for logistic regression model with optimal threshold\n",
    "from numpy import sqrt\n",
    "from numpy import argmax\n",
    "from sklearn.datasets import make_classification\n",
    "from sklearn.linear_model import LogisticRegression\n",
    "from sklearn.model_selection import train_test_split\n",
    "from sklearn.metrics import roc_curve\n",
    "from matplotlib import pyplot\n",
    "fpr, tpr, thresholds = roc_curve(data[\"1\"], data[\"prob_LP\"])"
   ]
  },
  {
   "cell_type": "code",
   "execution_count": 6,
   "id": "ec4d5037",
   "metadata": {},
   "outputs": [
    {
     "name": "stdout",
     "output_type": "stream",
     "text": [
      "Best Threshold=1.000000, G-Mean=1.000\n"
     ]
    },
    {
     "data": {
      "image/png": "[encoded data removed]",
      "text/plain": [
       "<Figure size 640x480 with 1 Axes>"
      ]
     },
     "metadata": {},
     "output_type": "display_data"
    }
   ],
   "source": [
    "# calculate the g-mean for each threshold\n",
    "gmeans = sqrt(tpr * (1-fpr))\n",
    "# locate the index of the largest g-mean\n",
    "ix = argmax(gmeans)\n",
    "print('Best Threshold=%f, G-Mean=%.3f' % (thresholds[ix], gmeans[ix]))\n",
    "# plot the roc curve for the model\n",
    "pyplot.plot([0,1], [0,1], linestyle='--', label='No Skill')\n",
    "pyplot.plot(fpr, tpr, marker='.', label='Label propagation')\n",
    "pyplot.scatter(fpr[ix], tpr[ix], marker='o', color='black', label='Best')\n",
    "# axis labels\n",
    "pyplot.xlabel('False Positive Rate')\n",
    "pyplot.ylabel('True Positive Rate')\n",
    "pyplot.legend()\n",
    "# show the plot\n",
    "pyplot.show()"
   ]
  },
  {
   "cell_type": "code",
   "execution_count": 7,
   "id": "ab769b83",
   "metadata": {},
   "outputs": [
    {
     "name": "stderr",
     "output_type": "stream",
     "text": [
      "C:\\Users\\cami_\\AppData\\Local\\Temp\\ipykernel_3692\\3972930035.py:5: SettingWithCopyWarning: \n",
      "A value is trying to be set on a copy of a slice from a DataFrame\n",
      "\n",
      "See the caveats in the documentation: https://pandas.pydata.org/pandas-docs/stable/user_guide/indexing.html#returning-a-view-versus-a-copy\n",
      "  data[\"prob_LP\"][i] = 0\n"
     ]
    }
   ],
   "source": [
    "for i in range(len(data[\"pred_LP\"])):\n",
    "    if data[\"prob_LP\"][i] > thresholds[ix]:\n",
    "        data[\"prob_LP\"][i] = 1\n",
    "    else:\n",
    "        data[\"prob_LP\"][i] = 0\n"
   ]
  },
  {
   "cell_type": "code",
   "execution_count": 8,
   "id": "884c3ce6",
   "metadata": {},
   "outputs": [
    {
     "name": "stdout",
     "output_type": "stream",
     "text": [
      "AUC AUCcr ACCURACY B_ACCURACY F MCC ALPHA\n",
      "[[0.9785151515151514, 0.977550503451333, 1.0, 1.0, 1.0, 0.8401358958847399, 0.04296969696969697]]\n"
     ]
    }
   ],
   "source": [
    "y = data[\"1\"]\n",
    "y = y.to_frame()\n",
    "y_pred = data[\"pred_LP\"]\n",
    "y_pred = y_pred.to_frame()\n",
    "fixed_LP = fixed_metrics(y,y_pred)\n",
    "print(\"AUC\",\"AUCcr\",\"ACCURACY\",\"B_ACCURACY\",\"F\",\"MCC\",\"ALPHA\")\n",
    "print(fixed_LP)"
   ]
  },
  {
   "cell_type": "markdown",
   "id": "192363c9",
   "metadata": {},
   "source": [
    "### precision - recall label propagation"
   ]
  },
  {
   "cell_type": "code",
   "execution_count": 9,
   "id": "d7aaf284",
   "metadata": {},
   "outputs": [
    {
     "name": "stdout",
     "output_type": "stream",
     "text": [
      "Best Threshold=0.000000, F-Score=0.081\n"
     ]
    },
    {
     "data": {
      "image/png": "[encoded data removed]",
      "text/plain": [
       "<Figure size 640x480 with 1 Axes>"
      ]
     },
     "metadata": {},
     "output_type": "display_data"
    }
   ],
   "source": [
    "precision, recall, thresholds = precision_recall_curve(y,data[\"prob_LP\"])\n",
    "fscore = (2 * precision * recall) / (precision + recall)\n",
    "# locate the index of the largest f score\n",
    "ix = argmax(fscore)\n",
    "print('Best Threshold=%f, F-Score=%.3f' % (thresholds[ix], fscore[ix]))\n",
    "# plot the roc curve for the model\n",
    "no_skill = len(data[\"1\"][data[\"1\"]==1]) / len(data[\"1\"])\n",
    "pyplot.plot([0,1], [no_skill,no_skill], linestyle='--', label='No Skill')\n",
    "pyplot.plot(recall, precision, marker='.', label='Label propagation')\n",
    "pyplot.scatter(recall[ix], precision[ix], marker='o', color='black', label='Best')\n",
    "# axis labels\n",
    "pyplot.xlabel('Recall')\n",
    "pyplot.ylabel('Precision')\n",
    "pyplot.legend()\n",
    "# show the plot\n",
    "pyplot.show()"
   ]
  },
  {
   "cell_type": "code",
   "execution_count": 10,
   "id": "cb60027a",
   "metadata": {},
   "outputs": [
    {
     "name": "stderr",
     "output_type": "stream",
     "text": [
      "C:\\Users\\cami_\\AppData\\Local\\Temp\\ipykernel_3692\\2754748676.py:7: SettingWithCopyWarning: \n",
      "A value is trying to be set on a copy of a slice from a DataFrame\n",
      "\n",
      "See the caveats in the documentation: https://pandas.pydata.org/pandas-docs/stable/user_guide/indexing.html#returning-a-view-versus-a-copy\n",
      "  data[\"pred_LP_PR\"][i] = 0\n"
     ]
    }
   ],
   "source": [
    "data[\"pred_LP_PR\"] = data[\"pred_LP\"] #This works. This will create a new column with None type\n",
    "\n",
    "for i in range(len(data[\"pred_LP_PR\"])):\n",
    "    if data[\"prob_LP\"][i] > thresholds[ix]:\n",
    "        data[\"pred_LP_PR\"][i] = 1\n",
    "    else:\n",
    "        data[\"pred_LP_PR\"][i] = 0\n"
   ]
  },
  {
   "cell_type": "code",
   "execution_count": 11,
   "id": "33934669",
   "metadata": {},
   "outputs": [
    {
     "name": "stdout",
     "output_type": "stream",
     "text": [
      "AUC AUCcr ACCURACY B_ACCURACY F MCC ALPHA\n",
      "[[0.5, 0.5, 0.9577432087299744, 0.5, 0.0, nan, 0.0]]\n"
     ]
    },
    {
     "name": "stderr",
     "output_type": "stream",
     "text": [
      "C:\\Users\\cami_\\AppData\\Local\\Temp\\ipykernel_3692\\835000598.py:68: RuntimeWarning: divide by zero encountered in double_scalars\n",
      "  mcc_cr = (pi_cr*(1-pi_cr)/theta*(1-theta))*(gamma_cr-n_cr)\n",
      "C:\\Users\\cami_\\AppData\\Local\\Temp\\ipykernel_3692\\835000598.py:68: RuntimeWarning: invalid value encountered in double_scalars\n",
      "  mcc_cr = (pi_cr*(1-pi_cr)/theta*(1-theta))*(gamma_cr-n_cr)\n"
     ]
    }
   ],
   "source": [
    "y = data[\"1\"]\n",
    "y = y.to_frame()\n",
    "y_pred = data[\"pred_LP_PR\"]\n",
    "y_pred = y_pred.to_frame()\n",
    "fixed_LP = fixed_metrics(y,y_pred)\n",
    "print(\"AUC\",\"AUCcr\",\"ACCURACY\",\"B_ACCURACY\",\"F\",\"MCC\",\"ALPHA\")\n",
    "print(fixed_LP)"
   ]
  },
  {
   "cell_type": "markdown",
   "id": "7fbcd4b1",
   "metadata": {},
   "source": [
    "# SAVING RESULTS"
   ]
  },
  {
   "cell_type": "code",
   "execution_count": 12,
   "id": "34940808",
   "metadata": {},
   "outputs": [],
   "source": [
    "#y_pred"
   ]
  },
  {
   "cell_type": "code",
   "execution_count": 13,
   "id": "504d76cb",
   "metadata": {},
   "outputs": [],
   "source": [
    "results = data[[\"1\",\"prob_LP\",\"pred_LP\",\"pred_LP_PR\"]]"
   ]
  },
  {
   "cell_type": "code",
   "execution_count": 14,
   "id": "afaae3b8",
   "metadata": {},
   "outputs": [],
   "source": [
    "results.to_csv(\"D:/REPO_GITHUB/ALUMINUM_GENES_CLASSIFICATION/RESULTS/UNWEIGHTED/out_pred_LP.csv\")"
   ]
  },
  {
   "cell_type": "code",
   "execution_count": null,
   "id": "94ccce3e",
   "metadata": {},
   "outputs": [],
   "source": []
  },
  {
   "cell_type": "markdown",
   "id": "8cbd75ed",
   "metadata": {},
   "source": [
    "# threshold weighted\n"
   ]
  },
  {
   "cell_type": "code",
   "execution_count": 15,
   "id": "38770e7f",
   "metadata": {
    "scrolled": true
   },
   "outputs": [
    {
     "name": "stdout",
     "output_type": "stream",
     "text": [
      "                1   prob_LP  pred_LP  pred_A_LP\n",
      "0                                              \n",
      "LOC_Os03g50290  0  0.826900      0.0          1\n",
      "LOC_Os04g38870  1  1.000000      1.0          1\n",
      "LOC_Os08g33370  0  0.911300      1.0          1\n",
      "LOC_Os08g37490  0  0.911300      1.0          1\n",
      "LOC_Os02g36974  0  0.863488      0.0          1\n",
      "...            ..       ...      ...        ...\n",
      "LOC_Os05g37130  0  0.087679      0.0          0\n",
      "LOC_Os04g45020  0  0.102194      0.0          0\n",
      "LOC_Os02g11870  0  0.257382      0.0          0\n",
      "LOC_Os01g43050  0  0.364632      0.0          0\n",
      "LOC_Os05g41160  0  0.320154      0.0          0\n",
      "\n",
      "[17228 rows x 4 columns]\n"
     ]
    }
   ],
   "source": [
    "filename = \"D:/REPO_GITHUB/ALUMINUM_GENES_CLASSIFICATION/RESULTS/WEIGHTED/out_pred_LAB_PROP.csv\"\n",
    "#filename = \"/users/ccsosaa/pecanpy/BIG_COMP_W.emb\"\n",
    "data = pd.read_csv(filename,index_col=0)\n",
    "print(data)"
   ]
  },
  {
   "cell_type": "code",
   "execution_count": 16,
   "id": "7e443441",
   "metadata": {},
   "outputs": [
    {
     "name": "stdout",
     "output_type": "stream",
     "text": [
      "                1   prob_LP  pred_LP  pred_A_LP\n",
      "0                                              \n",
      "LOC_Os03g50290  0  0.826900      0.0          1\n",
      "LOC_Os04g38870  1  1.000000      1.0          1\n",
      "LOC_Os08g33370  0  0.911300      1.0          1\n",
      "LOC_Os08g37490  0  0.911300      1.0          1\n",
      "LOC_Os02g36974  0  0.863488      0.0          1\n",
      "...            ..       ...      ...        ...\n",
      "LOC_Os05g37130  0  0.087679      0.0          0\n",
      "LOC_Os04g45020  0  0.102194      0.0          0\n",
      "LOC_Os02g11870  0  0.257382      0.0          0\n",
      "LOC_Os01g43050  0  0.364632      0.0          0\n",
      "LOC_Os05g41160  0  0.320154      0.0          0\n",
      "\n",
      "[17228 rows x 4 columns]\n"
     ]
    }
   ],
   "source": [
    "data['prob_LP'] =data['prob_LP'].fillna(0)\n",
    "print(data)"
   ]
  },
  {
   "cell_type": "code",
   "execution_count": 17,
   "id": "ff66d22e",
   "metadata": {},
   "outputs": [],
   "source": [
    "# roc curve for logistic regression model with optimal threshold\n",
    "from numpy import sqrt\n",
    "from numpy import argmax\n",
    "from sklearn.datasets import make_classification\n",
    "from sklearn.linear_model import LogisticRegression\n",
    "from sklearn.model_selection import train_test_split\n",
    "from sklearn.metrics import roc_curve\n",
    "from matplotlib import pyplot\n",
    "fpr, tpr, thresholds = roc_curve(data[\"1\"], data[\"prob_LP\"])"
   ]
  },
  {
   "cell_type": "code",
   "execution_count": 18,
   "id": "e08c3b54",
   "metadata": {},
   "outputs": [
    {
     "name": "stdout",
     "output_type": "stream",
     "text": [
      "Best Threshold=1.000000, G-Mean=1.000\n"
     ]
    },
    {
     "data": {
      "image/png": "[encoded data removed]",
      "text/plain": [
       "<Figure size 640x480 with 1 Axes>"
      ]
     },
     "metadata": {},
     "output_type": "display_data"
    }
   ],
   "source": [
    "# calculate the g-mean for each threshold\n",
    "gmeans = sqrt(tpr * (1-fpr))\n",
    "# locate the index of the largest g-mean\n",
    "ix = argmax(gmeans)\n",
    "print('Best Threshold=%f, G-Mean=%.3f' % (thresholds[ix], gmeans[ix]))\n",
    "# plot the roc curve for the model\n",
    "pyplot.plot([0,1], [0,1], linestyle='--', label='No Skill')\n",
    "pyplot.plot(fpr, tpr, marker='.', label='Label propagation')\n",
    "pyplot.scatter(fpr[ix], tpr[ix], marker='o', color='black', label='Best')\n",
    "# axis labels\n",
    "pyplot.xlabel('False Positive Rate')\n",
    "pyplot.ylabel('True Positive Rate')\n",
    "pyplot.legend()\n",
    "# show the plot\n",
    "pyplot.show()"
   ]
  },
  {
   "cell_type": "code",
   "execution_count": 19,
   "id": "00a72635",
   "metadata": {},
   "outputs": [
    {
     "name": "stderr",
     "output_type": "stream",
     "text": [
      "C:\\Users\\cami_\\AppData\\Local\\Temp\\ipykernel_3692\\3972930035.py:5: SettingWithCopyWarning: \n",
      "A value is trying to be set on a copy of a slice from a DataFrame\n",
      "\n",
      "See the caveats in the documentation: https://pandas.pydata.org/pandas-docs/stable/user_guide/indexing.html#returning-a-view-versus-a-copy\n",
      "  data[\"prob_LP\"][i] = 0\n"
     ]
    }
   ],
   "source": [
    "for i in range(len(data[\"pred_LP\"])):\n",
    "    if data[\"prob_LP\"][i] > thresholds[ix]:\n",
    "        data[\"prob_LP\"][i] = 1\n",
    "    else:\n",
    "        data[\"prob_LP\"][i] = 0\n"
   ]
  },
  {
   "cell_type": "code",
   "execution_count": 20,
   "id": "6257dd00",
   "metadata": {},
   "outputs": [
    {
     "name": "stdout",
     "output_type": "stream",
     "text": [
      "AUC AUCcr ACCURACY B_ACCURACY F MCC ALPHA\n",
      "[[0.9785757575757577, 0.9776166656113469, 0.9999999999999999, 1.0, 0.9999999999999998, 0.8403487232165993, 0.04284848484848485]]\n"
     ]
    }
   ],
   "source": [
    "y = data[\"1\"]\n",
    "y = y.to_frame()\n",
    "y_pred = data[\"pred_LP\"]\n",
    "y_pred = y_pred.to_frame()\n",
    "fixed_LP = fixed_metrics(y,y_pred)\n",
    "print(\"AUC\",\"AUCcr\",\"ACCURACY\",\"B_ACCURACY\",\"F\",\"MCC\",\"ALPHA\")\n",
    "print(fixed_LP)"
   ]
  },
  {
   "cell_type": "markdown",
   "id": "495b326e",
   "metadata": {},
   "source": [
    "### precision - recall label propagation"
   ]
  },
  {
   "cell_type": "code",
   "execution_count": 21,
   "id": "c24b482b",
   "metadata": {},
   "outputs": [
    {
     "name": "stdout",
     "output_type": "stream",
     "text": [
      "Best Threshold=0.000000, F-Score=0.081\n"
     ]
    },
    {
     "data": {
      "image/png": "[encoded data removed]",
      "text/plain": [
       "<Figure size 640x480 with 1 Axes>"
      ]
     },
     "metadata": {},
     "output_type": "display_data"
    }
   ],
   "source": [
    "precision, recall, thresholds = precision_recall_curve(y,data[\"prob_LP\"])\n",
    "fscore = (2 * precision * recall) / (precision + recall)\n",
    "# locate the index of the largest f score\n",
    "ix = argmax(fscore)\n",
    "print('Best Threshold=%f, F-Score=%.3f' % (thresholds[ix], fscore[ix]))\n",
    "# plot the roc curve for the model\n",
    "no_skill = len(data[\"1\"][data[\"1\"]==1]) / len(data[\"1\"])\n",
    "pyplot.plot([0,1], [no_skill,no_skill], linestyle='--', label='No Skill')\n",
    "pyplot.plot(recall, precision, marker='.', label='Label propagation')\n",
    "pyplot.scatter(recall[ix], precision[ix], marker='o', color='black', label='Best')\n",
    "# axis labels\n",
    "pyplot.xlabel('Recall')\n",
    "pyplot.ylabel('Precision')\n",
    "pyplot.legend()\n",
    "# show the plot\n",
    "pyplot.show()"
   ]
  },
  {
   "cell_type": "code",
   "execution_count": 22,
   "id": "92c61079",
   "metadata": {},
   "outputs": [
    {
     "name": "stderr",
     "output_type": "stream",
     "text": [
      "C:\\Users\\cami_\\AppData\\Local\\Temp\\ipykernel_3692\\2754748676.py:7: SettingWithCopyWarning: \n",
      "A value is trying to be set on a copy of a slice from a DataFrame\n",
      "\n",
      "See the caveats in the documentation: https://pandas.pydata.org/pandas-docs/stable/user_guide/indexing.html#returning-a-view-versus-a-copy\n",
      "  data[\"pred_LP_PR\"][i] = 0\n"
     ]
    }
   ],
   "source": [
    "data[\"pred_LP_PR\"] = data[\"pred_LP\"] #This works. This will create a new column with None type\n",
    "\n",
    "for i in range(len(data[\"pred_LP_PR\"])):\n",
    "    if data[\"prob_LP\"][i] > thresholds[ix]:\n",
    "        data[\"pred_LP_PR\"][i] = 1\n",
    "    else:\n",
    "        data[\"pred_LP_PR\"][i] = 0\n"
   ]
  },
  {
   "cell_type": "code",
   "execution_count": 23,
   "id": "e11b4b9e",
   "metadata": {},
   "outputs": [
    {
     "name": "stdout",
     "output_type": "stream",
     "text": [
      "AUC AUCcr ACCURACY B_ACCURACY F MCC ALPHA\n",
      "[[0.5, 0.5, 0.9577432087299744, 0.5, 0.0, nan, 0.0]]\n"
     ]
    },
    {
     "name": "stderr",
     "output_type": "stream",
     "text": [
      "C:\\Users\\cami_\\AppData\\Local\\Temp\\ipykernel_3692\\835000598.py:68: RuntimeWarning: divide by zero encountered in double_scalars\n",
      "  mcc_cr = (pi_cr*(1-pi_cr)/theta*(1-theta))*(gamma_cr-n_cr)\n",
      "C:\\Users\\cami_\\AppData\\Local\\Temp\\ipykernel_3692\\835000598.py:68: RuntimeWarning: invalid value encountered in double_scalars\n",
      "  mcc_cr = (pi_cr*(1-pi_cr)/theta*(1-theta))*(gamma_cr-n_cr)\n"
     ]
    }
   ],
   "source": [
    "y = data[\"1\"]\n",
    "y = y.to_frame()\n",
    "y_pred = data[\"pred_LP_PR\"]\n",
    "y_pred = y_pred.to_frame()\n",
    "fixed_LP = fixed_metrics(y,y_pred)\n",
    "print(\"AUC\",\"AUCcr\",\"ACCURACY\",\"B_ACCURACY\",\"F\",\"MCC\",\"ALPHA\")\n",
    "print(fixed_LP)"
   ]
  },
  {
   "cell_type": "markdown",
   "id": "5bf92d5f",
   "metadata": {},
   "source": [
    "# SAVING RESULTS"
   ]
  },
  {
   "cell_type": "code",
   "execution_count": 24,
   "id": "17323234",
   "metadata": {},
   "outputs": [],
   "source": [
    "#y_pred"
   ]
  },
  {
   "cell_type": "code",
   "execution_count": 25,
   "id": "7e1525bc",
   "metadata": {},
   "outputs": [],
   "source": [
    "results = data[[\"1\",\"prob_LP\",\"pred_LP\",\"pred_LP_PR\"]]"
   ]
  },
  {
   "cell_type": "code",
   "execution_count": 26,
   "id": "cfb4f493",
   "metadata": {},
   "outputs": [],
   "source": [
    "results.to_csv(\"D:/REPO_GITHUB/ALUMINUM_GENES_CLASSIFICATION/RESULTS/WEIGHTED/out_pred_LP.csv\")"
   ]
  }
 ],
 "metadata": {
  "kernelspec": {
   "display_name": "Python 3 (ipykernel)",
   "language": "python",
   "name": "python3"
  },
  "language_info": {
   "codemirror_mode": {
    "name": "ipython",
    "version": 3
   },
   "file_extension": ".py",
   "mimetype": "text/x-python",
   "name": "python",
   "nbconvert_exporter": "python",
   "pygments_lexer": "ipython3",
   "version": "3.8.16"
  }
 },
 "nbformat": 4,
 "nbformat_minor": 5
}
