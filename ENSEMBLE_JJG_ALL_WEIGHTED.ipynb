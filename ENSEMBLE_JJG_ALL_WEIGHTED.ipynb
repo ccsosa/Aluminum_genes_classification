{
 "cells": [
  {
   "cell_type": "markdown",
   "id": "32bf9470",
   "metadata": {},
   "source": [
    "# LOADING LIBRARIES"
   ]
  },
  {
   "cell_type": "code",
   "execution_count": 1,
   "id": "7a808951",
   "metadata": {},
   "outputs": [
    {
     "name": "stderr",
     "output_type": "stream",
     "text": [
      "<frozen importlib._bootstrap>:219: RuntimeWarning: scipy._lib.messagestream.MessageStream size changed, may indicate binary incompatibility. Expected 56 from C header, got 64 from PyObject\n"
     ]
    }
   ],
   "source": [
    "#!/usr/bin/env python\n",
    "# coding: utf-8\n",
    "\n",
    "# In[2]:\n",
    "\n",
    "#import matplotlib.pyplot as plt\n",
    "#import numpy as np\n",
    "import pandas as pd\n",
    "#import networkx as nx\n",
    "#import csv\n",
    "#from sys import stdin\n",
    "#from networkx.algorithms.community import greedy_modularity_communities\n",
    "#from networkx.algorithms.community import k_clique_communities\n",
    "#from networkx.algorithms.community import asyn_lpa_communities\n",
    "#from networkx.algorithms.community import modularity\n",
    "#from cdlib import algorithms, readwrite, viz\n",
    "#from sklearn.manifold import TSNE\n",
    "#from sklearn.model_selection import train_test_split\n",
    "#from sklearn.linear_model import LogisticRegressionCV\n",
    "#from sklearn.metrics import accuracy_score\n",
    "#from gensim.models import Word2Vec\n",
    "from sklearn import preprocessing\n",
    "import sklearn.metrics as sk_metrics\n",
    "#import seaborn as sns\n",
    "\n",
    "#################\n",
    "def fixed_metrics(y,y_pred):\n",
    "    from sklearn import metrics\n",
    "    import pandas as pd\n",
    "    import sklearn.metrics as sk_metrics\n",
    "    \n",
    "\n",
    "    cm = sk_metrics.confusion_matrix(y, y_pred)\n",
    "\n",
    "    results_partial = y.copy()\n",
    "    results_partial=pd.DataFrame(results_partial)\n",
    "    results_partial[\"pred\"] = y_pred\n",
    "    results_partial = results_partial[(results_partial.iloc[:,0]<1)]\n",
    "    \n",
    "    alfa = sum(results_partial[\"pred\"])/results_partial.shape[0]\n",
    "    beta = 1\n",
    "    \n",
    "    fpr, tpr, thresholds = metrics.roc_curve(y, y_pred, pos_label=1)\n",
    "\n",
    "    \n",
    "    TN = cm[0,0]\n",
    "    FN = cm[1,0]\n",
    "    TP = cm[1,1]\n",
    "    FP = cm[0,1]\n",
    "    \n",
    "    theta = (TP+FP)/(TP+FN+TN+FP)\n",
    "    n=FP/(TN+FP)\n",
    "    #pi = (TP+FN)/(TP+FN+TN+FP)\n",
    "    c= len(y[(y.iloc[:,0]==1)])/(len(y[(y.iloc[:,0]==1)])+len(y[(y.iloc[:,0]==0)]))\n",
    "    gamma = TP/(TP+FN)\n",
    "    if beta-alfa==0:\n",
    "        gamma_cr = float('inf')\n",
    "        n_cr = float('inf')\n",
    "    else:\n",
    "        gamma_cr = ((beta-alfa)**-1)*((1-alfa)*gamma-(1-beta)*n)\n",
    "        n_cr = ((beta-alfa)**-1)*((beta*n)-(alfa*gamma))\n",
    "        \n",
    "    pi_cr = (c*beta)+((1-c)*alfa)\n",
    "    ##metrics\n",
    "    ACC_cr = (pi_cr*gamma_cr) + ((1-pi_cr)*(1-n_cr))\n",
    "    bacc_cr = (1 + (gamma_cr - n_cr))/2\n",
    "    f_cr = (2*pi_cr*gamma_cr)/(pi_cr+theta)\n",
    "    mcc_cr = (pi_cr*(1-pi_cr)/theta*(1-theta))*(gamma_cr-n_cr)\n",
    "    \n",
    "    auc_r = metrics.auc(fpr, tpr)\n",
    "    auc_cr = (auc_r-(1-(beta-alfa)))/(beta-alfa)\n",
    "    alfa = sum(results_partial[\"pred\"])/results_partial.shape[0]\n",
    "    \n",
    "    metrics_df =[[auc_r,auc_cr,ACC_cr,bacc_cr,f_cr,mcc_cr,alfa]]\n",
    "    return(metrics_df)\n"
   ]
  },
  {
   "cell_type": "code",
   "execution_count": 2,
   "id": "68147ee4",
   "metadata": {},
   "outputs": [],
   "source": [
    "# roc curve for logistic regression model with optimal threshold\n",
    "from numpy import sqrt\n",
    "from numpy import argmax\n",
    "from sklearn.datasets import make_classification\n",
    "from sklearn.metrics import precision_recall_curve\n",
    "from sklearn.model_selection import train_test_split\n",
    "from sklearn.metrics import roc_curve\n",
    "from matplotlib import pyplot"
   ]
  },
  {
   "cell_type": "markdown",
   "id": "b6988c03",
   "metadata": {},
   "source": [
    "# threshold prom unweighted\n"
   ]
  },
  {
   "cell_type": "code",
   "execution_count": 3,
   "id": "acf0db0b",
   "metadata": {},
   "outputs": [
    {
     "name": "stdout",
     "output_type": "stream",
     "text": [
      "                status  prob_svm  prob_lda   prob_rf   prob_LP  \\\n",
      "genes                                                            \n",
      "LOC_Os03g50290       0  0.501694  0.473465  0.537439  0.000000   \n",
      "LOC_Os04g38870       0  0.501601  0.569725  0.489644  0.000000   \n",
      "LOC_Os08g33370       0  0.501769  0.517468  0.522299  0.000000   \n",
      "LOC_Os08g37490       0  0.502012  0.576035  0.525786  0.000000   \n",
      "LOC_Os02g36974       0  0.502298  0.466111  0.507616  0.000000   \n",
      "...                ...       ...       ...       ...       ...   \n",
      "LOC_Os05g37130       0  0.512387  0.491250  0.522381  0.486625   \n",
      "LOC_Os04g45020       0  0.555368  0.416236  0.494323  0.310911   \n",
      "LOC_Os02g11870       0  0.570674  0.509756  0.486288  0.298337   \n",
      "LOC_Os01g43050       0  0.574949  0.366623  0.549982  0.298801   \n",
      "LOC_Os05g41160       0  0.531696  0.396774  0.506490  0.460786   \n",
      "\n",
      "                prob_ADA_logit  prob_ADA_lda  prob_ADA_svm  PROM_PROB_PULEARN  \\\n",
      "genes                                                                           \n",
      "LOC_Os03g50290        0.881415      0.136518      0.495213           0.378150   \n",
      "LOC_Os04g38870        0.869971      0.326490      0.457169           0.390243   \n",
      "LOC_Os08g33370        0.849316      0.211245      0.492413           0.385384   \n",
      "LOC_Os08g37490        0.848869      0.229276      0.495992           0.400958   \n",
      "LOC_Os02g36974        0.856424      0.284176      0.472305           0.369006   \n",
      "...                        ...           ...           ...                ...   \n",
      "LOC_Os05g37130        0.687116      0.041964      0.446074           0.503161   \n",
      "LOC_Os04g45020        0.951530      0.023994      0.374771           0.444209   \n",
      "LOC_Os02g11870        0.824106      0.037161      0.459827           0.466264   \n",
      "LOC_Os01g43050        0.950894      0.014177      0.404390           0.447589   \n",
      "LOC_Os05g41160        0.595009      0.046708      0.506173           0.473936   \n",
      "\n",
      "                PROM_PROB_ADASAMPLING  PROM_PROB_ALL  ENSEMBLE_PULEARN  \\\n",
      "genes                                                                    \n",
      "LOC_Os03g50290               0.504382       0.432249               NaN   \n",
      "LOC_Os04g38870               0.551210       0.459229               NaN   \n",
      "LOC_Os08g33370               0.517658       0.442073               NaN   \n",
      "LOC_Os08g37490               0.524712       0.453996               NaN   \n",
      "LOC_Os02g36974               0.537635       0.441276               NaN   \n",
      "...                               ...            ...               ...   \n",
      "LOC_Os05g37130               0.391718       0.455400               NaN   \n",
      "LOC_Os04g45020               0.450098       0.446733               NaN   \n",
      "LOC_Os02g11870               0.440365       0.455164               NaN   \n",
      "LOC_Os01g43050               0.456487       0.451402               NaN   \n",
      "LOC_Os05g41160               0.382630       0.434805               NaN   \n",
      "\n",
      "                ENSEMBLE_ADASAMPLING  ENSEMBLE_PROM  \n",
      "genes                                                \n",
      "LOC_Os03g50290                   NaN            NaN  \n",
      "LOC_Os04g38870                   NaN            NaN  \n",
      "LOC_Os08g33370                   NaN            NaN  \n",
      "LOC_Os08g37490                   NaN            NaN  \n",
      "LOC_Os02g36974                   NaN            NaN  \n",
      "...                              ...            ...  \n",
      "LOC_Os05g37130                   NaN            NaN  \n",
      "LOC_Os04g45020                   NaN            NaN  \n",
      "LOC_Os02g11870                   NaN            NaN  \n",
      "LOC_Os01g43050                   NaN            NaN  \n",
      "LOC_Os05g41160                   NaN            NaN  \n",
      "\n",
      "[17228 rows x 14 columns]\n"
     ]
    }
   ],
   "source": [
    "filename = \"D:/REPO_GITHUB/ALUMINUM_GENES_CLASSIFICATION/ENSEMBLE/JJG/CANDIDATES_JJG_ENSEMBLE_WEIGHTED_ALL.xlsx\"\n",
    "#filename = \"/users/ccsosaa/pecanpy/BIG_COMP_W.emb\"\n",
    "data=pd.read_excel(filename,index_col=0)\n",
    "print(data)"
   ]
  },
  {
   "cell_type": "markdown",
   "id": "a204a63c",
   "metadata": {},
   "source": [
    "# PULEARN"
   ]
  },
  {
   "cell_type": "code",
   "execution_count": 4,
   "id": "c18da6c3",
   "metadata": {},
   "outputs": [],
   "source": [
    "# roc curve for logistic regression model with optimal threshold\n",
    "from numpy import sqrt\n",
    "from numpy import argmax\n",
    "from sklearn.datasets import make_classification\n",
    "from sklearn.linear_model import LogisticRegression\n",
    "from sklearn.model_selection import train_test_split\n",
    "from sklearn.metrics import roc_curve\n",
    "from matplotlib import pyplot\n",
    "fpr, tpr, thresholds = roc_curve(data[\"status\"], data[\"PROM_PROB_PULEARN\"])"
   ]
  },
  {
   "cell_type": "code",
   "execution_count": 5,
   "id": "ec4d5037",
   "metadata": {},
   "outputs": [
    {
     "name": "stdout",
     "output_type": "stream",
     "text": [
      "Best Threshold=0.652798, G-Mean=0.995\n"
     ]
    },
    {
     "data": {
      "image/png": "[encoded data removed]",
      "text/plain": [
       "<Figure size 640x480 with 1 Axes>"
      ]
     },
     "metadata": {},
     "output_type": "display_data"
    }
   ],
   "source": [
    "# calculate the g-mean for each threshold\n",
    "gmeans = sqrt(tpr * (1-fpr))\n",
    "# locate the index of the largest g-mean\n",
    "ix = argmax(gmeans)\n",
    "print('Best Threshold=%f, G-Mean=%.3f' % (thresholds[ix], gmeans[ix]))\n",
    "# plot the roc curve for the model\n",
    "pyplot.plot([0,1], [0,1], linestyle='--', label='No Skill')\n",
    "pyplot.plot(fpr, tpr, marker='.', label='Average probability (PULEARN)')\n",
    "pyplot.scatter(fpr[ix], tpr[ix], marker='o', color='black', label='Best')\n",
    "# axis labels\n",
    "pyplot.xlabel('False Positive Rate')\n",
    "pyplot.ylabel('True Positive Rate')\n",
    "pyplot.legend()\n",
    "# show the plot\n",
    "pyplot.show()"
   ]
  },
  {
   "cell_type": "code",
   "execution_count": 6,
   "id": "ab769b83",
   "metadata": {},
   "outputs": [
    {
     "name": "stderr",
     "output_type": "stream",
     "text": [
      "C:\\Users\\cami_\\AppData\\Local\\Temp\\ipykernel_11212\\2986860982.py:5: SettingWithCopyWarning: \n",
      "A value is trying to be set on a copy of a slice from a DataFrame\n",
      "\n",
      "See the caveats in the documentation: https://pandas.pydata.org/pandas-docs/stable/user_guide/indexing.html#returning-a-view-versus-a-copy\n",
      "  data[\"ENSEMBLE_PULEARN\"][i] = 0\n",
      "C:\\Users\\cami_\\AppData\\Local\\Temp\\ipykernel_11212\\2986860982.py:3: SettingWithCopyWarning: \n",
      "A value is trying to be set on a copy of a slice from a DataFrame\n",
      "\n",
      "See the caveats in the documentation: https://pandas.pydata.org/pandas-docs/stable/user_guide/indexing.html#returning-a-view-versus-a-copy\n",
      "  data[\"ENSEMBLE_PULEARN\"][i] = 1\n"
     ]
    }
   ],
   "source": [
    "for i in range(len(data[\"ENSEMBLE_PULEARN\"])):\n",
    "    if data[\"PROM_PROB_PULEARN\"][i] > thresholds[ix]:\n",
    "        data[\"ENSEMBLE_PULEARN\"][i] = 1\n",
    "    else:\n",
    "        data[\"ENSEMBLE_PULEARN\"][i] = 0\n"
   ]
  },
  {
   "cell_type": "code",
   "execution_count": 7,
   "id": "884c3ce6",
   "metadata": {},
   "outputs": [
    {
     "name": "stdout",
     "output_type": "stream",
     "text": [
      "AUC AUCcr ACCURACY B_ACCURACY F MCC ALPHA\n",
      "[[0.9871294719870111, 0.9870045595040898, 0.9996330055348756, 0.9918572152302236, 0.9860428683329772, 0.962257297440993, 0.009612023767913317]]\n"
     ]
    }
   ],
   "source": [
    "y = data[\"status\"]\n",
    "y = y.to_frame()\n",
    "y_pred = data[\"ENSEMBLE_PULEARN\"]\n",
    "y_pred = y_pred.to_frame()\n",
    "fixed_SVM = fixed_metrics(y,y_pred)\n",
    "print(\"AUC\",\"AUCcr\",\"ACCURACY\",\"B_ACCURACY\",\"F\",\"MCC\",\"ALPHA\")\n",
    "print(fixed_SVM)"
   ]
  },
  {
   "cell_type": "markdown",
   "id": "76e749da",
   "metadata": {},
   "source": [
    "# ADASAMPLING"
   ]
  },
  {
   "cell_type": "code",
   "execution_count": 8,
   "id": "868781b0",
   "metadata": {},
   "outputs": [],
   "source": [
    "# roc curve for logistic regression model with optimal threshold\n",
    "from numpy import sqrt\n",
    "from numpy import argmax\n",
    "from sklearn.datasets import make_classification\n",
    "from sklearn.linear_model import LogisticRegression\n",
    "from sklearn.model_selection import train_test_split\n",
    "from sklearn.metrics import roc_curve\n",
    "from matplotlib import pyplot\n",
    "fpr, tpr, thresholds = roc_curve(data[\"status\"], data[\"PROM_PROB_ADASAMPLING\"])"
   ]
  },
  {
   "cell_type": "code",
   "execution_count": 9,
   "id": "00841e48",
   "metadata": {},
   "outputs": [
    {
     "name": "stdout",
     "output_type": "stream",
     "text": [
      "Best Threshold=0.516945, G-Mean=0.710\n"
     ]
    },
    {
     "data": {
      "image/png": "[encoded data removed]",
      "text/plain": [
       "<Figure size 640x480 with 1 Axes>"
      ]
     },
     "metadata": {},
     "output_type": "display_data"
    }
   ],
   "source": [
    "# calculate the g-mean for each threshold\n",
    "gmeans = sqrt(tpr * (1-fpr))\n",
    "# locate the index of the largest g-mean\n",
    "ix = argmax(gmeans)\n",
    "print('Best Threshold=%f, G-Mean=%.3f' % (thresholds[ix], gmeans[ix]))\n",
    "# plot the roc curve for the model\n",
    "pyplot.plot([0,1], [0,1], linestyle='--', label='No Skill')\n",
    "pyplot.plot(fpr, tpr, marker='.', label='Average probability (ADASAMPLING)')\n",
    "pyplot.scatter(fpr[ix], tpr[ix], marker='o', color='black', label='Best')\n",
    "# axis labels\n",
    "pyplot.xlabel('False Positive Rate')\n",
    "pyplot.ylabel('True Positive Rate')\n",
    "pyplot.legend()\n",
    "# show the plot\n",
    "pyplot.show()"
   ]
  },
  {
   "cell_type": "code",
   "execution_count": 10,
   "id": "fc70b1e3",
   "metadata": {},
   "outputs": [
    {
     "name": "stderr",
     "output_type": "stream",
     "text": [
      "C:\\Users\\cami_\\AppData\\Local\\Temp\\ipykernel_11212\\4044284437.py:5: SettingWithCopyWarning: \n",
      "A value is trying to be set on a copy of a slice from a DataFrame\n",
      "\n",
      "See the caveats in the documentation: https://pandas.pydata.org/pandas-docs/stable/user_guide/indexing.html#returning-a-view-versus-a-copy\n",
      "  data[\"ENSEMBLE_ADASAMPLING\"][i] = 0\n",
      "C:\\Users\\cami_\\AppData\\Local\\Temp\\ipykernel_11212\\4044284437.py:3: SettingWithCopyWarning: \n",
      "A value is trying to be set on a copy of a slice from a DataFrame\n",
      "\n",
      "See the caveats in the documentation: https://pandas.pydata.org/pandas-docs/stable/user_guide/indexing.html#returning-a-view-versus-a-copy\n",
      "  data[\"ENSEMBLE_ADASAMPLING\"][i] = 1\n"
     ]
    }
   ],
   "source": [
    "for i in range(len(data[\"ENSEMBLE_ADASAMPLING\"])):\n",
    "    if data[\"PROM_PROB_ADASAMPLING\"][i] > thresholds[ix]:\n",
    "        data[\"ENSEMBLE_ADASAMPLING\"][i] = 1\n",
    "    else:\n",
    "        data[\"ENSEMBLE_ADASAMPLING\"][i] = 0\n"
   ]
  },
  {
   "cell_type": "code",
   "execution_count": 11,
   "id": "c9635a1e",
   "metadata": {},
   "outputs": [
    {
     "name": "stdout",
     "output_type": "stream",
     "text": [
      "AUC AUCcr ACCURACY B_ACCURACY F MCC ALPHA\n",
      "[[0.7049681854227974, 0.6221920082780857, 0.836694952702652, 0.7624754845928938, 0.6309301646545048, 0.32029331028151514, 0.21909588721892112]]\n"
     ]
    }
   ],
   "source": [
    "y = data[\"status\"]\n",
    "y = y.to_frame()\n",
    "y_pred = data[\"ENSEMBLE_ADASAMPLING\"]\n",
    "y_pred = y_pred.to_frame()\n",
    "fixed_SVM = fixed_metrics(y,y_pred)\n",
    "print(\"AUC\",\"AUCcr\",\"ACCURACY\",\"B_ACCURACY\",\"F\",\"MCC\",\"ALPHA\")\n",
    "print(fixed_SVM)"
   ]
  },
  {
   "cell_type": "markdown",
   "id": "02b1227b",
   "metadata": {},
   "source": [
    "# ALL"
   ]
  },
  {
   "cell_type": "code",
   "execution_count": 12,
   "id": "a6ff7dc9",
   "metadata": {},
   "outputs": [],
   "source": [
    "# roc curve for logistic regression model with optimal threshold\n",
    "from numpy import sqrt\n",
    "from numpy import argmax\n",
    "from sklearn.datasets import make_classification\n",
    "from sklearn.linear_model import LogisticRegression\n",
    "from sklearn.model_selection import train_test_split\n",
    "from sklearn.metrics import roc_curve\n",
    "from matplotlib import pyplot\n",
    "fpr, tpr, thresholds = roc_curve(data[\"status\"], data[\"PROM_PROB_ALL\"])"
   ]
  },
  {
   "cell_type": "code",
   "execution_count": 13,
   "id": "33462d81",
   "metadata": {},
   "outputs": [
    {
     "name": "stdout",
     "output_type": "stream",
     "text": [
      "Best Threshold=0.561670, G-Mean=0.992\n"
     ]
    },
    {
     "data": {
      "image/png": "[encoded data removed]",
      "text/plain": [
       "<Figure size 640x480 with 1 Axes>"
      ]
     },
     "metadata": {},
     "output_type": "display_data"
    }
   ],
   "source": [
    "# calculate the g-mean for each threshold\n",
    "gmeans = sqrt(tpr * (1-fpr))\n",
    "# locate the index of the largest g-mean\n",
    "ix = argmax(gmeans)\n",
    "print('Best Threshold=%f, G-Mean=%.3f' % (thresholds[ix], gmeans[ix]))\n",
    "# plot the roc curve for the model\n",
    "pyplot.plot([0,1], [0,1], linestyle='--', label='No Skill')\n",
    "pyplot.plot(fpr, tpr, marker='.', label='Average probability')\n",
    "pyplot.scatter(fpr[ix], tpr[ix], marker='o', color='black', label='Best')\n",
    "# axis labels\n",
    "pyplot.xlabel('False Positive Rate')\n",
    "pyplot.ylabel('True Positive Rate')\n",
    "pyplot.legend()\n",
    "# show the plot\n",
    "pyplot.show()"
   ]
  },
  {
   "cell_type": "code",
   "execution_count": 14,
   "id": "0729d4e8",
   "metadata": {},
   "outputs": [
    {
     "name": "stderr",
     "output_type": "stream",
     "text": [
      "C:\\Users\\cami_\\AppData\\Local\\Temp\\ipykernel_11212\\287229893.py:5: SettingWithCopyWarning: \n",
      "A value is trying to be set on a copy of a slice from a DataFrame\n",
      "\n",
      "See the caveats in the documentation: https://pandas.pydata.org/pandas-docs/stable/user_guide/indexing.html#returning-a-view-versus-a-copy\n",
      "  data[\"ENSEMBLE_PROM\"][i] = 0\n",
      "C:\\Users\\cami_\\AppData\\Local\\Temp\\ipykernel_11212\\287229893.py:3: SettingWithCopyWarning: \n",
      "A value is trying to be set on a copy of a slice from a DataFrame\n",
      "\n",
      "See the caveats in the documentation: https://pandas.pydata.org/pandas-docs/stable/user_guide/indexing.html#returning-a-view-versus-a-copy\n",
      "  data[\"ENSEMBLE_PROM\"][i] = 1\n"
     ]
    }
   ],
   "source": [
    "for i in range(len(data[\"ENSEMBLE_PROM\"])):\n",
    "    if data[\"PROM_PROB_ALL\"][i] > thresholds[ix]:\n",
    "        data[\"ENSEMBLE_PROM\"][i] = 1\n",
    "    else:\n",
    "        data[\"ENSEMBLE_PROM\"][i] = 0\n"
   ]
  },
  {
   "cell_type": "code",
   "execution_count": 15,
   "id": "b0dae1c9",
   "metadata": {},
   "outputs": [
    {
     "name": "stdout",
     "output_type": "stream",
     "text": [
      "AUC AUCcr ACCURACY B_ACCURACY F MCC ALPHA\n",
      "[[0.983779827340617, 0.9835108679455781, 0.9994176771497263, 0.9918017598086599, 0.9853114816039297, 0.947766520405815, 0.016311313060701386]]\n"
     ]
    }
   ],
   "source": [
    "y = data[\"status\"]\n",
    "y = y.to_frame()\n",
    "y_pred = data[\"ENSEMBLE_PROM\"]\n",
    "y_pred = y_pred.to_frame()\n",
    "fixed_SVM = fixed_metrics(y,y_pred)\n",
    "print(\"AUC\",\"AUCcr\",\"ACCURACY\",\"B_ACCURACY\",\"F\",\"MCC\",\"ALPHA\")\n",
    "print(fixed_SVM)"
   ]
  },
  {
   "cell_type": "markdown",
   "id": "67a6592e",
   "metadata": {},
   "source": [
    "### SAVING RESULTS"
   ]
  },
  {
   "cell_type": "code",
   "execution_count": 16,
   "id": "d1c6fe3e",
   "metadata": {},
   "outputs": [
    {
     "data": {
      "text/plain": [
       "'\\ndata[\"PRED_PULEARN\"] = data[\"status\"]\\nfor i in range(len(data[\"PRED_PULEARN\"])):\\n    if data[\"PROM_PROB_PULEARN\"][i] > 0.611762:\\n        data[\"PRED_PULEARN\"][i] = 1\\n    else:\\n        data[\"PRED_PULEARN\"][i] = 0\\n\\n'"
      ]
     },
     "execution_count": 16,
     "metadata": {},
     "output_type": "execute_result"
    }
   ],
   "source": [
    "\"\"\"\n",
    "data[\"PRED_PULEARN\"] = data[\"status\"]\n",
    "for i in range(len(data[\"PRED_PULEARN\"])):\n",
    "    if data[\"PROM_PROB_PULEARN\"][i] > 0.611762:\n",
    "        data[\"PRED_PULEARN\"][i] = 1\n",
    "    else:\n",
    "        data[\"PRED_PULEARN\"][i] = 0\n",
    "\n",
    "\"\"\"\n"
   ]
  },
  {
   "cell_type": "code",
   "execution_count": 17,
   "id": "4fb6d05a",
   "metadata": {},
   "outputs": [
    {
     "data": {
      "text/plain": [
       "'data[\"PRED_ADASAMPLING\"] = data[\"status\"]\\nfor i in range(len(data[\"PRED_ADASAMPLING\"])):\\n    if data[\"PROM_PROB_ADASAMPLING\"][i] > 0.550387:\\n        data[\"PRED_ADASAMPLING\"][i] = 1\\n    else:\\n        data[\"PRED_ADASAMPLING\"][i] = 0\\n'"
      ]
     },
     "execution_count": 17,
     "metadata": {},
     "output_type": "execute_result"
    }
   ],
   "source": [
    "\"\"\"data[\"PRED_ADASAMPLING\"] = data[\"status\"]\n",
    "for i in range(len(data[\"PRED_ADASAMPLING\"])):\n",
    "    if data[\"PROM_PROB_ADASAMPLING\"][i] > 0.550387:\n",
    "        data[\"PRED_ADASAMPLING\"][i] = 1\n",
    "    else:\n",
    "        data[\"PRED_ADASAMPLING\"][i] = 0\n",
    "\"\"\""
   ]
  },
  {
   "cell_type": "code",
   "execution_count": 18,
   "id": "fada1817",
   "metadata": {},
   "outputs": [
    {
     "data": {
      "text/plain": [
       "'\\ndata[\"PRED_ALL\"] = data[\"status\"]\\nfor i in range(len(data[\"PRED_ALL\"])):\\n    if data[\"PROM_PROB_ALL\"][i] > 0.521705:\\n        data[\"PRED_ALL\"][i] = 1\\n    else:\\n        data[\"PRED_ALL\"][i] = 0\\n'"
      ]
     },
     "execution_count": 18,
     "metadata": {},
     "output_type": "execute_result"
    }
   ],
   "source": [
    "\"\"\"\n",
    "data[\"PRED_ALL\"] = data[\"status\"]\n",
    "for i in range(len(data[\"PRED_ALL\"])):\n",
    "    if data[\"PROM_PROB_ALL\"][i] > 0.521705:\n",
    "        data[\"PRED_ALL\"][i] = 1\n",
    "    else:\n",
    "        data[\"PRED_ALL\"][i] = 0\n",
    "\"\"\""
   ]
  },
  {
   "cell_type": "code",
   "execution_count": 19,
   "id": "45886793",
   "metadata": {},
   "outputs": [],
   "source": [
    "data.to_excel(filename, sheet_name=\"WEIGHTED\")"
   ]
  },
  {
   "cell_type": "code",
   "execution_count": null,
   "id": "56db53c1",
   "metadata": {},
   "outputs": [],
   "source": []
  }
 ],
 "metadata": {
  "kernelspec": {
   "display_name": "Python 3 (ipykernel)",
   "language": "python",
   "name": "python3"
  },
  "language_info": {
   "codemirror_mode": {
    "name": "ipython",
    "version": 3
   },
   "file_extension": ".py",
   "mimetype": "text/x-python",
   "name": "python",
   "nbconvert_exporter": "python",
   "pygments_lexer": "ipython3",
   "version": "3.8.16"
  }
 },
 "nbformat": 4,
 "nbformat_minor": 5
}
