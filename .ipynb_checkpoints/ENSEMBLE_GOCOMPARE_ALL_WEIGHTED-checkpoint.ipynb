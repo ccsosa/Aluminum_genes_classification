{
 "cells": [
  {
   "cell_type": "markdown",
   "id": "32bf9470",
   "metadata": {},
   "source": [
    "# LOADING LIBRARIES"
   ]
  },
  {
   "cell_type": "code",
   "execution_count": null,
   "id": "7a808951",
   "metadata": {},
   "outputs": [],
   "source": [
    "#!/usr/bin/env python\n",
    "# coding: utf-8\n",
    "\n",
    "# In[2]:\n",
    "\n",
    "#import matplotlib.pyplot as plt\n",
    "#import numpy as np\n",
    "import pandas as pd\n",
    "#import networkx as nx\n",
    "#import csv\n",
    "#from sys import stdin\n",
    "#from networkx.algorithms.community import greedy_modularity_communities\n",
    "#from networkx.algorithms.community import k_clique_communities\n",
    "#from networkx.algorithms.community import asyn_lpa_communities\n",
    "#from networkx.algorithms.community import modularity\n",
    "#from cdlib import algorithms, readwrite, viz\n",
    "#from sklearn.manifold import TSNE\n",
    "#from sklearn.model_selection import train_test_split\n",
    "#from sklearn.linear_model import LogisticRegressionCV\n",
    "#from sklearn.metrics import accuracy_score\n",
    "#from gensim.models import Word2Vec\n",
    "from sklearn import preprocessing\n",
    "import sklearn.metrics as sk_metrics\n",
    "#import seaborn as sns\n",
    "\n",
    "#################\n",
    "def fixed_metrics(y,y_pred):\n",
    "    from sklearn import metrics\n",
    "    import pandas as pd\n",
    "    import sklearn.metrics as sk_metrics\n",
    "    \n",
    "\n",
    "    cm = sk_metrics.confusion_matrix(y, y_pred)\n",
    "\n",
    "    results_partial = y.copy()\n",
    "    results_partial=pd.DataFrame(results_partial)\n",
    "    results_partial[\"pred\"] = y_pred\n",
    "    results_partial = results_partial[(results_partial.iloc[:,0]<1)]\n",
    "    \n",
    "    alfa = sum(results_partial[\"pred\"])/results_partial.shape[0]\n",
    "    beta = 1\n",
    "    \n",
    "    fpr, tpr, thresholds = metrics.roc_curve(y, y_pred, pos_label=1)\n",
    "\n",
    "    \n",
    "    TN = cm[0,0]\n",
    "    FN = cm[1,0]\n",
    "    TP = cm[1,1]\n",
    "    FP = cm[0,1]\n",
    "    \n",
    "    theta = (TP+FP)/(TP+FN+TN+FP)\n",
    "    n=FP/(TN+FP)\n",
    "    #pi = (TP+FN)/(TP+FN+TN+FP)\n",
    "    c= len(y[(y.iloc[:,0]==1)])/(len(y[(y.iloc[:,0]==1)])+len(y[(y.iloc[:,0]==0)]))\n",
    "    gamma = TP/(TP+FN)\n",
    "    if beta-alfa==0:\n",
    "        gamma_cr = float('inf')\n",
    "        n_cr = float('inf')\n",
    "    else:\n",
    "        gamma_cr = ((beta-alfa)**-1)*((1-alfa)*gamma-(1-beta)*n)\n",
    "        n_cr = ((beta-alfa)**-1)*((beta*n)-(alfa*gamma))\n",
    "        \n",
    "    pi_cr = (c*beta)+((1-c)*alfa)\n",
    "    ##metrics\n",
    "    ACC_cr = (pi_cr*gamma_cr) + ((1-pi_cr)*(1-n_cr))\n",
    "    bacc_cr = (1 + (gamma_cr - n_cr))/2\n",
    "    f_cr = (2*pi_cr*gamma_cr)/(pi_cr+theta)\n",
    "    mcc_cr = (pi_cr*(1-pi_cr)/theta*(1-theta))*(gamma_cr-n_cr)\n",
    "    \n",
    "    auc_r = metrics.auc(fpr, tpr)\n",
    "    auc_cr = (auc_r-(1-(beta-alfa)))/(beta-alfa)\n",
    "    alfa = sum(results_partial[\"pred\"])/results_partial.shape[0]\n",
    "    \n",
    "    metrics_df =[[auc_r,auc_cr,ACC_cr,bacc_cr,f_cr,mcc_cr,alfa]]\n",
    "    return(metrics_df)\n"
   ]
  },
  {
   "cell_type": "code",
   "execution_count": null,
   "id": "68147ee4",
   "metadata": {},
   "outputs": [],
   "source": [
    "# roc curve for logistic regression model with optimal threshold\n",
    "from numpy import sqrt\n",
    "from numpy import argmax\n",
    "from sklearn.datasets import make_classification\n",
    "from sklearn.metrics import precision_recall_curve\n",
    "from sklearn.model_selection import train_test_split\n",
    "from sklearn.metrics import roc_curve\n",
    "from matplotlib import pyplot"
   ]
  },
  {
   "cell_type": "markdown",
   "id": "b6988c03",
   "metadata": {},
   "source": [
    "# threshold prom unweighted\n"
   ]
  },
  {
   "cell_type": "code",
   "execution_count": null,
   "id": "acf0db0b",
   "metadata": {},
   "outputs": [],
   "source": [
    "filename = \"D:/REPO_GITHUB/ALUMINUM_GENES_CLASSIFICATION/ENSEMBLE/CANDIDATES_GOCompare_ENSEMBLE_WEIGHTED_ALL.xlsx\"\n",
    "#filename = \"/users/ccsosaa/pecanpy/BIG_COMP_W.emb\"\n",
    "data=pd.read_excel(filename,index_col=0)\n",
    "print(data)"
   ]
  },
  {
   "cell_type": "markdown",
   "id": "a204a63c",
   "metadata": {},
   "source": [
    "# PULEARN"
   ]
  },
  {
   "cell_type": "code",
   "execution_count": null,
   "id": "c18da6c3",
   "metadata": {},
   "outputs": [],
   "source": [
    "# roc curve for logistic regression model with optimal threshold\n",
    "from numpy import sqrt\n",
    "from numpy import argmax\n",
    "from sklearn.datasets import make_classification\n",
    "from sklearn.linear_model import LogisticRegression\n",
    "from sklearn.model_selection import train_test_split\n",
    "from sklearn.metrics import roc_curve\n",
    "from matplotlib import pyplot\n",
    "fpr, tpr, thresholds = roc_curve(data[\"status\"], data[\"PROM_PROB_PULEARN\"])"
   ]
  },
  {
   "cell_type": "code",
   "execution_count": null,
   "id": "ec4d5037",
   "metadata": {},
   "outputs": [],
   "source": [
    "# calculate the g-mean for each threshold\n",
    "gmeans = sqrt(tpr * (1-fpr))\n",
    "# locate the index of the largest g-mean\n",
    "ix = argmax(gmeans)\n",
    "print('Best Threshold=%f, G-Mean=%.3f' % (thresholds[ix], gmeans[ix]))\n",
    "# plot the roc curve for the model\n",
    "pyplot.plot([0,1], [0,1], linestyle='--', label='No Skill')\n",
    "pyplot.plot(fpr, tpr, marker='.', label='Average probability (PULEARN)')\n",
    "pyplot.scatter(fpr[ix], tpr[ix], marker='o', color='black', label='Best')\n",
    "# axis labels\n",
    "pyplot.xlabel('False Positive Rate')\n",
    "pyplot.ylabel('True Positive Rate')\n",
    "pyplot.legend()\n",
    "# show the plot\n",
    "pyplot.show()"
   ]
  },
  {
   "cell_type": "code",
   "execution_count": null,
   "id": "ab769b83",
   "metadata": {},
   "outputs": [],
   "source": [
    "for i in range(len(data[\"ENSEMBLE_PULEARN\"])):\n",
    "    if data[\"PROM_PROB_PULEARN\"][i] > thresholds[ix]:\n",
    "        data[\"ENSEMBLE_PULEARN\"][i] = 1\n",
    "    else:\n",
    "        data[\"ENSEMBLE_PULEARN\"][i] = 0\n"
   ]
  },
  {
   "cell_type": "code",
   "execution_count": null,
   "id": "884c3ce6",
   "metadata": {},
   "outputs": [],
   "source": [
    "y = data[\"status\"]\n",
    "y = y.to_frame()\n",
    "y_pred = data[\"ENSEMBLE_PULEARN\"]\n",
    "y_pred = y_pred.to_frame()\n",
    "fixed_SVM = fixed_metrics(y,y_pred)\n",
    "print(\"AUC\",\"AUCcr\",\"ACCURACY\",\"B_ACCURACY\",\"F\",\"MCC\",\"ALPHA\")\n",
    "print(fixed_SVM)"
   ]
  },
  {
   "cell_type": "markdown",
   "id": "76e749da",
   "metadata": {},
   "source": [
    "# ADASAMPLING"
   ]
  },
  {
   "cell_type": "code",
   "execution_count": null,
   "id": "868781b0",
   "metadata": {},
   "outputs": [],
   "source": [
    "# roc curve for logistic regression model with optimal threshold\n",
    "from numpy import sqrt\n",
    "from numpy import argmax\n",
    "from sklearn.datasets import make_classification\n",
    "from sklearn.linear_model import LogisticRegression\n",
    "from sklearn.model_selection import train_test_split\n",
    "from sklearn.metrics import roc_curve\n",
    "from matplotlib import pyplot\n",
    "fpr, tpr, thresholds = roc_curve(data[\"status\"], data[\"PROM_PROB_ADASAMPLING\"])"
   ]
  },
  {
   "cell_type": "code",
   "execution_count": null,
   "id": "00841e48",
   "metadata": {},
   "outputs": [],
   "source": [
    "# calculate the g-mean for each threshold\n",
    "gmeans = sqrt(tpr * (1-fpr))\n",
    "# locate the index of the largest g-mean\n",
    "ix = argmax(gmeans)\n",
    "print('Best Threshold=%f, G-Mean=%.3f' % (thresholds[ix], gmeans[ix]))\n",
    "# plot the roc curve for the model\n",
    "pyplot.plot([0,1], [0,1], linestyle='--', label='No Skill')\n",
    "pyplot.plot(fpr, tpr, marker='.', label='Average probability (ADASAMPLING)')\n",
    "pyplot.scatter(fpr[ix], tpr[ix], marker='o', color='black', label='Best')\n",
    "# axis labels\n",
    "pyplot.xlabel('False Positive Rate')\n",
    "pyplot.ylabel('True Positive Rate')\n",
    "pyplot.legend()\n",
    "# show the plot\n",
    "pyplot.show()"
   ]
  },
  {
   "cell_type": "code",
   "execution_count": null,
   "id": "fc70b1e3",
   "metadata": {},
   "outputs": [],
   "source": [
    "for i in range(len(data[\"ENSEMBLE_ADASAMPLING\"])):\n",
    "    if data[\"PROM_PROB_ADASAMPLING\"][i] > thresholds[ix]:\n",
    "        data[\"ENSEMBLE_ADASAMPLING\"][i] = 1\n",
    "    else:\n",
    "        data[\"ENSEMBLE_ADASAMPLING\"][i] = 0\n"
   ]
  },
  {
   "cell_type": "code",
   "execution_count": null,
   "id": "c9635a1e",
   "metadata": {},
   "outputs": [],
   "source": [
    "y = data[\"status\"]\n",
    "y = y.to_frame()\n",
    "y_pred = data[\"ENSEMBLE_ADASAMPLING\"]\n",
    "y_pred = y_pred.to_frame()\n",
    "fixed_SVM = fixed_metrics(y,y_pred)\n",
    "print(\"AUC\",\"AUCcr\",\"ACCURACY\",\"B_ACCURACY\",\"F\",\"MCC\",\"ALPHA\")\n",
    "print(fixed_SVM)"
   ]
  },
  {
   "cell_type": "markdown",
   "id": "02b1227b",
   "metadata": {},
   "source": [
    "# ALL"
   ]
  },
  {
   "cell_type": "code",
   "execution_count": null,
   "id": "a6ff7dc9",
   "metadata": {},
   "outputs": [],
   "source": [
    "# roc curve for logistic regression model with optimal threshold\n",
    "from numpy import sqrt\n",
    "from numpy import argmax\n",
    "from sklearn.datasets import make_classification\n",
    "from sklearn.linear_model import LogisticRegression\n",
    "from sklearn.model_selection import train_test_split\n",
    "from sklearn.metrics import roc_curve\n",
    "from matplotlib import pyplot\n",
    "fpr, tpr, thresholds = roc_curve(data[\"status\"], data[\"PROM_PROB_ALL\"])"
   ]
  },
  {
   "cell_type": "code",
   "execution_count": null,
   "id": "33462d81",
   "metadata": {},
   "outputs": [],
   "source": [
    "# calculate the g-mean for each threshold\n",
    "gmeans = sqrt(tpr * (1-fpr))\n",
    "# locate the index of the largest g-mean\n",
    "ix = argmax(gmeans)\n",
    "print('Best Threshold=%f, G-Mean=%.3f' % (thresholds[ix], gmeans[ix]))\n",
    "# plot the roc curve for the model\n",
    "pyplot.plot([0,1], [0,1], linestyle='--', label='No Skill')\n",
    "pyplot.plot(fpr, tpr, marker='.', label='Average probability')\n",
    "pyplot.scatter(fpr[ix], tpr[ix], marker='o', color='black', label='Best')\n",
    "# axis labels\n",
    "pyplot.xlabel('False Positive Rate')\n",
    "pyplot.ylabel('True Positive Rate')\n",
    "pyplot.legend()\n",
    "# show the plot\n",
    "pyplot.show()"
   ]
  },
  {
   "cell_type": "code",
   "execution_count": null,
   "id": "0729d4e8",
   "metadata": {},
   "outputs": [],
   "source": [
    "for i in range(len(data[\"ENSEMBLE_PROM\"])):\n",
    "    if data[\"PROM_PROB_ALL\"][i] > thresholds[ix]:\n",
    "        data[\"ENSEMBLE_PROM\"][i] = 1\n",
    "    else:\n",
    "        data[\"ENSEMBLE_PROM\"][i] = 0\n"
   ]
  },
  {
   "cell_type": "code",
   "execution_count": null,
   "id": "b0dae1c9",
   "metadata": {},
   "outputs": [],
   "source": [
    "y = data[\"status\"]\n",
    "y = y.to_frame()\n",
    "y_pred = data[\"ENSEMBLE_PROM\"]\n",
    "y_pred = y_pred.to_frame()\n",
    "fixed_SVM = fixed_metrics(y,y_pred)\n",
    "print(\"AUC\",\"AUCcr\",\"ACCURACY\",\"B_ACCURACY\",\"F\",\"MCC\",\"ALPHA\")\n",
    "print(fixed_SVM)"
   ]
  },
  {
   "cell_type": "markdown",
   "id": "67a6592e",
   "metadata": {},
   "source": [
    "### SAVING RESULTS"
   ]
  },
  {
   "cell_type": "code",
   "execution_count": null,
   "id": "d1c6fe3e",
   "metadata": {},
   "outputs": [],
   "source": [
    "\"\"\"\n",
    "data[\"PRED_PULEARN\"] = data[\"status\"]\n",
    "for i in range(len(data[\"PRED_PULEARN\"])):\n",
    "    if data[\"PROM_PROB_PULEARN\"][i] > 0.611762:\n",
    "        data[\"PRED_PULEARN\"][i] = 1\n",
    "    else:\n",
    "        data[\"PRED_PULEARN\"][i] = 0\n",
    "\n",
    "\"\"\"\n"
   ]
  },
  {
   "cell_type": "code",
   "execution_count": null,
   "id": "4fb6d05a",
   "metadata": {},
   "outputs": [],
   "source": [
    "\"\"\"data[\"PRED_ADASAMPLING\"] = data[\"status\"]\n",
    "for i in range(len(data[\"PRED_ADASAMPLING\"])):\n",
    "    if data[\"PROM_PROB_ADASAMPLING\"][i] > 0.550387:\n",
    "        data[\"PRED_ADASAMPLING\"][i] = 1\n",
    "    else:\n",
    "        data[\"PRED_ADASAMPLING\"][i] = 0\n",
    "\"\"\""
   ]
  },
  {
   "cell_type": "code",
   "execution_count": null,
   "id": "fada1817",
   "metadata": {},
   "outputs": [],
   "source": [
    "\"\"\"\n",
    "data[\"PRED_ALL\"] = data[\"status\"]\n",
    "for i in range(len(data[\"PRED_ALL\"])):\n",
    "    if data[\"PROM_PROB_ALL\"][i] > 0.521705:\n",
    "        data[\"PRED_ALL\"][i] = 1\n",
    "    else:\n",
    "        data[\"PRED_ALL\"][i] = 0\n",
    "\"\"\""
   ]
  },
  {
   "cell_type": "code",
   "execution_count": null,
   "id": "45886793",
   "metadata": {},
   "outputs": [],
   "source": [
    "data.to_excel(filename, sheet_name=\"WEIGHTED\")"
   ]
  },
  {
   "cell_type": "code",
   "execution_count": null,
   "id": "56db53c1",
   "metadata": {},
   "outputs": [],
   "source": []
  }
 ],
 "metadata": {
  "kernelspec": {
   "display_name": "Python 3 (ipykernel)",
   "language": "python",
   "name": "python3"
  },
  "language_info": {
   "codemirror_mode": {
    "name": "ipython",
    "version": 3
   },
   "file_extension": ".py",
   "mimetype": "text/x-python",
   "name": "python",
   "nbconvert_exporter": "python",
   "pygments_lexer": "ipython3",
   "version": "3.8.16"
  }
 },
 "nbformat": 4,
 "nbformat_minor": 5
}
